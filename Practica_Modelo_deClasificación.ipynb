{
  "cells": [
    {
      "cell_type": "markdown",
      "id": "854866b9-95f0-4304-96ea-e934de838841",
      "metadata": {
        "id": "854866b9-95f0-4304-96ea-e934de838841"
      },
      "source": [
        "# Notebook: Modelos de Clasificación y Métricas de Evaluación"
      ]
    },
    {
      "cell_type": "markdown",
      "source": [
        "Juan David Garcia Zapata"
      ],
      "metadata": {
        "id": "fMLvUaQ5ycD_"
      },
      "id": "fMLvUaQ5ycD_"
    },
    {
      "cell_type": "markdown",
      "id": "87e162c9-1005-4e3c-b222-32bf0a2245af",
      "metadata": {
        "id": "87e162c9-1005-4e3c-b222-32bf0a2245af"
      },
      "source": [
        "## 1. Introducción.\n",
        "En este notebook exploraremos los modelos de clasificación, aplicaremos algunos algoritmos y evaluaremos su rendimiento utilizando métricas comunes, incluyendo el AUC y la elección del umbral para la clasificación. Utilizaremos el dataset de breast_cancer para estas tareas."
      ]
    },
    {
      "cell_type": "markdown",
      "id": "fad27217-5de9-4e90-8c67-bcd3c7c9e6f7",
      "metadata": {
        "id": "fad27217-5de9-4e90-8c67-bcd3c7c9e6f7"
      },
      "source": [
        "## 2. Cargar Librerías y Dataset\n",
        "\n",
        "Primero, cargamos las librerías necesarias y el dataset."
      ]
    },
    {
      "cell_type": "code",
      "execution_count": null,
      "id": "ff23d425-3d6f-4d21-955c-910608fd387e",
      "metadata": {
        "id": "ff23d425-3d6f-4d21-955c-910608fd387e"
      },
      "outputs": [],
      "source": [
        "# Importar librerías necesarias\n",
        "import numpy as np\n",
        "import pandas as pd\n",
        "from sklearn.datasets import load_breast_cancer\n",
        "from sklearn.model_selection import train_test_split\n",
        "from sklearn.linear_model import LogisticRegression\n",
        "from sklearn.tree import DecisionTreeClassifier\n",
        "from sklearn.svm import SVC\n",
        "from sklearn.metrics import accuracy_score, precision_score, recall_score, f1_score, roc_auc_score, confusion_matrix, classification_report\n",
        "import matplotlib.pyplot as plt\n",
        "from sklearn.preprocessing import Binarizer\n",
        "from sklearn.preprocessing import StandardScaler\n",
        "\n",
        "\n",
        "# Cargar el dataset Iris\n",
        "#iris = load_iris()\n",
        "#X = iris.data\n",
        "#y = iris.target\n",
        "\n",
        "# Cargar el dataset de cáncer de mama\n",
        "data = load_breast_cancer()\n",
        "X = data.data\n",
        "y = data.target"
      ]
    },
    {
      "cell_type": "code",
      "source": [
        "# prompt: como veo la descripción de los datos de breast_cancer\n",
        "\n",
        "print(data.DESCR)\n"
      ],
      "metadata": {
        "colab": {
          "base_uri": "https://localhost:8080/"
        },
        "id": "wz3f90-acueS",
        "outputId": "c5f98c5d-9937-43f9-a5d1-a173dfeefd94"
      },
      "id": "wz3f90-acueS",
      "execution_count": null,
      "outputs": [
        {
          "output_type": "stream",
          "name": "stdout",
          "text": [
            ".. _breast_cancer_dataset:\n",
            "\n",
            "Breast cancer wisconsin (diagnostic) dataset\n",
            "--------------------------------------------\n",
            "\n",
            "**Data Set Characteristics:**\n",
            "\n",
            "    :Number of Instances: 569\n",
            "\n",
            "    :Number of Attributes: 30 numeric, predictive attributes and the class\n",
            "\n",
            "    :Attribute Information:\n",
            "        - radius (mean of distances from center to points on the perimeter)\n",
            "        - texture (standard deviation of gray-scale values)\n",
            "        - perimeter\n",
            "        - area\n",
            "        - smoothness (local variation in radius lengths)\n",
            "        - compactness (perimeter^2 / area - 1.0)\n",
            "        - concavity (severity of concave portions of the contour)\n",
            "        - concave points (number of concave portions of the contour)\n",
            "        - symmetry\n",
            "        - fractal dimension (\"coastline approximation\" - 1)\n",
            "\n",
            "        The mean, standard error, and \"worst\" or largest (mean of the three\n",
            "        worst/largest values) of these features were computed for each image,\n",
            "        resulting in 30 features.  For instance, field 0 is Mean Radius, field\n",
            "        10 is Radius SE, field 20 is Worst Radius.\n",
            "\n",
            "        - class:\n",
            "                - WDBC-Malignant\n",
            "                - WDBC-Benign\n",
            "\n",
            "    :Summary Statistics:\n",
            "\n",
            "    ===================================== ====== ======\n",
            "                                           Min    Max\n",
            "    ===================================== ====== ======\n",
            "    radius (mean):                        6.981  28.11\n",
            "    texture (mean):                       9.71   39.28\n",
            "    perimeter (mean):                     43.79  188.5\n",
            "    area (mean):                          143.5  2501.0\n",
            "    smoothness (mean):                    0.053  0.163\n",
            "    compactness (mean):                   0.019  0.345\n",
            "    concavity (mean):                     0.0    0.427\n",
            "    concave points (mean):                0.0    0.201\n",
            "    symmetry (mean):                      0.106  0.304\n",
            "    fractal dimension (mean):             0.05   0.097\n",
            "    radius (standard error):              0.112  2.873\n",
            "    texture (standard error):             0.36   4.885\n",
            "    perimeter (standard error):           0.757  21.98\n",
            "    area (standard error):                6.802  542.2\n",
            "    smoothness (standard error):          0.002  0.031\n",
            "    compactness (standard error):         0.002  0.135\n",
            "    concavity (standard error):           0.0    0.396\n",
            "    concave points (standard error):      0.0    0.053\n",
            "    symmetry (standard error):            0.008  0.079\n",
            "    fractal dimension (standard error):   0.001  0.03\n",
            "    radius (worst):                       7.93   36.04\n",
            "    texture (worst):                      12.02  49.54\n",
            "    perimeter (worst):                    50.41  251.2\n",
            "    area (worst):                         185.2  4254.0\n",
            "    smoothness (worst):                   0.071  0.223\n",
            "    compactness (worst):                  0.027  1.058\n",
            "    concavity (worst):                    0.0    1.252\n",
            "    concave points (worst):               0.0    0.291\n",
            "    symmetry (worst):                     0.156  0.664\n",
            "    fractal dimension (worst):            0.055  0.208\n",
            "    ===================================== ====== ======\n",
            "\n",
            "    :Missing Attribute Values: None\n",
            "\n",
            "    :Class Distribution: 212 - Malignant, 357 - Benign\n",
            "\n",
            "    :Creator:  Dr. William H. Wolberg, W. Nick Street, Olvi L. Mangasarian\n",
            "\n",
            "    :Donor: Nick Street\n",
            "\n",
            "    :Date: November, 1995\n",
            "\n",
            "This is a copy of UCI ML Breast Cancer Wisconsin (Diagnostic) datasets.\n",
            "https://goo.gl/U2Uwz2\n",
            "\n",
            "Features are computed from a digitized image of a fine needle\n",
            "aspirate (FNA) of a breast mass.  They describe\n",
            "characteristics of the cell nuclei present in the image.\n",
            "\n",
            "Separating plane described above was obtained using\n",
            "Multisurface Method-Tree (MSM-T) [K. P. Bennett, \"Decision Tree\n",
            "Construction Via Linear Programming.\" Proceedings of the 4th\n",
            "Midwest Artificial Intelligence and Cognitive Science Society,\n",
            "pp. 97-101, 1992], a classification method which uses linear\n",
            "programming to construct a decision tree.  Relevant features\n",
            "were selected using an exhaustive search in the space of 1-4\n",
            "features and 1-3 separating planes.\n",
            "\n",
            "The actual linear program used to obtain the separating plane\n",
            "in the 3-dimensional space is that described in:\n",
            "[K. P. Bennett and O. L. Mangasarian: \"Robust Linear\n",
            "Programming Discrimination of Two Linearly Inseparable Sets\",\n",
            "Optimization Methods and Software 1, 1992, 23-34].\n",
            "\n",
            "This database is also available through the UW CS ftp server:\n",
            "\n",
            "ftp ftp.cs.wisc.edu\n",
            "cd math-prog/cpo-dataset/machine-learn/WDBC/\n",
            "\n",
            "|details-start|\n",
            "**References**\n",
            "|details-split|\n",
            "\n",
            "- W.N. Street, W.H. Wolberg and O.L. Mangasarian. Nuclear feature extraction \n",
            "  for breast tumor diagnosis. IS&T/SPIE 1993 International Symposium on \n",
            "  Electronic Imaging: Science and Technology, volume 1905, pages 861-870,\n",
            "  San Jose, CA, 1993.\n",
            "- O.L. Mangasarian, W.N. Street and W.H. Wolberg. Breast cancer diagnosis and \n",
            "  prognosis via linear programming. Operations Research, 43(4), pages 570-577, \n",
            "  July-August 1995.\n",
            "- W.H. Wolberg, W.N. Street, and O.L. Mangasarian. Machine learning techniques\n",
            "  to diagnose breast cancer from fine-needle aspirates. Cancer Letters 77 (1994) \n",
            "  163-171.\n",
            "\n",
            "|details-end|\n"
          ]
        }
      ]
    },
    {
      "cell_type": "code",
      "source": [
        "data.DESCR"
      ],
      "metadata": {
        "colab": {
          "base_uri": "https://localhost:8080/",
          "height": 123
        },
        "id": "6YJLtkojcclm",
        "outputId": "2da8a338-f8cf-496c-a858-2cefcc126f80"
      },
      "id": "6YJLtkojcclm",
      "execution_count": null,
      "outputs": [
        {
          "output_type": "execute_result",
          "data": {
            "text/plain": [
              "'.. _breast_cancer_dataset:\\n\\nBreast cancer wisconsin (diagnostic) dataset\\n--------------------------------------------\\n\\n**Data Set Characteristics:**\\n\\n    :Number of Instances: 569\\n\\n    :Number of Attributes: 30 numeric, predictive attributes and the class\\n\\n    :Attribute Information:\\n        - radius (mean of distances from center to points on the perimeter)\\n        - texture (standard deviation of gray-scale values)\\n        - perimeter\\n        - area\\n        - smoothness (local variation in radius lengths)\\n        - compactness (perimeter^2 / area - 1.0)\\n        - concavity (severity of concave portions of the contour)\\n        - concave points (number of concave portions of the contour)\\n        - symmetry\\n        - fractal dimension (\"coastline approximation\" - 1)\\n\\n        The mean, standard error, and \"worst\" or largest (mean of the three\\n        worst/largest values) of these features were computed for each image,\\n        resulting in 30 features.  For instance, field 0 is Mean Radius, field\\n        10 is Radius SE, field 20 is Worst Radius.\\n\\n        - class:\\n                - WDBC-Malignant\\n                - WDBC-Benign\\n\\n    :Summary Statistics:\\n\\n    ===================================== ====== ======\\n                                           Min    Max\\n    ===================================== ====== ======\\n    radius (mean):                        6.981  28.11\\n    texture (mean):                       9.71   39.28\\n    perimeter (mean):                     43.79  188.5\\n    area (mean):                          143.5  2501.0\\n    smoothness (mean):                    0.053  0.163\\n    compactness (mean):                   0.019  0.345\\n    concavity (mean):                     0.0    0.427\\n    concave points (mean):                0.0    0.201\\n    symmetry (mean):                      0.106  0.304\\n    fractal dimension (mean):             0.05   0.097\\n    radius (standard error):              0.112  2.873\\n    texture (standard error):             0.36   4.885\\n    perimeter (standard error):           0.757  21.98\\n    area (standard error):                6.802  542.2\\n    smoothness (standard error):          0.002  0.031\\n    compactness (standard error):         0.002  0.135\\n    concavity (standard error):           0.0    0.396\\n    concave points (standard error):      0.0    0.053\\n    symmetry (standard error):            0.008  0.079\\n    fractal dimension (standard error):   0.001  0.03\\n    radius (worst):                       7.93   36.04\\n    texture (worst):                      12.02  49.54\\n    perimeter (worst):                    50.41  251.2\\n    area (worst):                         185.2  4254.0\\n    smoothness (worst):                   0.071  0.223\\n    compactness (worst):                  0.027  1.058\\n    concavity (worst):                    0.0    1.252\\n    concave points (worst):               0.0    0.291\\n    symmetry (worst):                     0.156  0.664\\n    fractal dimension (worst):            0.055  0.208\\n    ===================================== ====== ======\\n\\n    :Missing Attribute Values: None\\n\\n    :Class Distribution: 212 - Malignant, 357 - Benign\\n\\n    :Creator:  Dr. William H. Wolberg, W. Nick Street, Olvi L. Mangasarian\\n\\n    :Donor: Nick Street\\n\\n    :Date: November, 1995\\n\\nThis is a copy of UCI ML Breast Cancer Wisconsin (Diagnostic) datasets.\\nhttps://goo.gl/U2Uwz2\\n\\nFeatures are computed from a digitized image of a fine needle\\naspirate (FNA) of a breast mass.  They describe\\ncharacteristics of the cell nuclei present in the image.\\n\\nSeparating plane described above was obtained using\\nMultisurface Method-Tree (MSM-T) [K. P. Bennett, \"Decision Tree\\nConstruction Via Linear Programming.\" Proceedings of the 4th\\nMidwest Artificial Intelligence and Cognitive Science Society,\\npp. 97-101, 1992], a classification method which uses linear\\nprogramming to construct a decision tree.  Relevant features\\nwere selected using an exhaustive search in the space of 1-4\\nfeatures and 1-3 separating planes.\\n\\nThe actual linear program used to obtain the separating plane\\nin the 3-dimensional space is that described in:\\n[K. P. Bennett and O. L. Mangasarian: \"Robust Linear\\nProgramming Discrimination of Two Linearly Inseparable Sets\",\\nOptimization Methods and Software 1, 1992, 23-34].\\n\\nThis database is also available through the UW CS ftp server:\\n\\nftp ftp.cs.wisc.edu\\ncd math-prog/cpo-dataset/machine-learn/WDBC/\\n\\n|details-start|\\n**References**\\n|details-split|\\n\\n- W.N. Street, W.H. Wolberg and O.L. Mangasarian. Nuclear feature extraction \\n  for breast tumor diagnosis. IS&T/SPIE 1993 International Symposium on \\n  Electronic Imaging: Science and Technology, volume 1905, pages 861-870,\\n  San Jose, CA, 1993.\\n- O.L. Mangasarian, W.N. Street and W.H. Wolberg. Breast cancer diagnosis and \\n  prognosis via linear programming. Operations Research, 43(4), pages 570-577, \\n  July-August 1995.\\n- W.H. Wolberg, W.N. Street, and O.L. Mangasarian. Machine learning techniques\\n  to diagnose breast cancer from fine-needle aspirates. Cancer Letters 77 (1994) \\n  163-171.\\n\\n|details-end|'"
            ],
            "application/vnd.google.colaboratory.intrinsic+json": {
              "type": "string"
            }
          },
          "metadata": {},
          "execution_count": 3
        }
      ]
    },
    {
      "cell_type": "code",
      "source": [
        "data.target_names"
      ],
      "metadata": {
        "colab": {
          "base_uri": "https://localhost:8080/"
        },
        "id": "FiKneY3kcFV9",
        "outputId": "186b2bfd-9b06-4f1f-ae85-8d7d3eae4b90"
      },
      "id": "FiKneY3kcFV9",
      "execution_count": null,
      "outputs": [
        {
          "output_type": "execute_result",
          "data": {
            "text/plain": [
              "array(['malignant', 'benign'], dtype='<U9')"
            ]
          },
          "metadata": {},
          "execution_count": 2
        }
      ]
    },
    {
      "cell_type": "markdown",
      "id": "8c2330e4-3680-4020-a5db-e44386be750b",
      "metadata": {
        "id": "8c2330e4-3680-4020-a5db-e44386be750b"
      },
      "source": [
        "#### Pregunta: ¿Qué características tiene el dataset? ¿cuál es la variable objetivo? (Ayuda: Mira data.feature_names y data.target_names)"
      ]
    },
    {
      "cell_type": "code",
      "source": [
        "data.feature_names"
      ],
      "metadata": {
        "colab": {
          "base_uri": "https://localhost:8080/"
        },
        "id": "l5QzSlG7xhbw",
        "outputId": "c6bd9172-a635-42c0-b418-c920c52225e8"
      },
      "id": "l5QzSlG7xhbw",
      "execution_count": null,
      "outputs": [
        {
          "output_type": "execute_result",
          "data": {
            "text/plain": [
              "array(['mean radius', 'mean texture', 'mean perimeter', 'mean area',\n",
              "       'mean smoothness', 'mean compactness', 'mean concavity',\n",
              "       'mean concave points', 'mean symmetry', 'mean fractal dimension',\n",
              "       'radius error', 'texture error', 'perimeter error', 'area error',\n",
              "       'smoothness error', 'compactness error', 'concavity error',\n",
              "       'concave points error', 'symmetry error',\n",
              "       'fractal dimension error', 'worst radius', 'worst texture',\n",
              "       'worst perimeter', 'worst area', 'worst smoothness',\n",
              "       'worst compactness', 'worst concavity', 'worst concave points',\n",
              "       'worst symmetry', 'worst fractal dimension'], dtype='<U23')"
            ]
          },
          "metadata": {},
          "execution_count": 32
        }
      ]
    },
    {
      "cell_type": "markdown",
      "id": "30836953-3f14-41da-9b46-ee3f72d4c2b0",
      "metadata": {
        "id": "30836953-3f14-41da-9b46-ee3f72d4c2b0"
      },
      "source": [
        " Utiliza pd.DataFrame para crear un DataFrame de pandas con el dataset y visualízalo"
      ]
    },
    {
      "cell_type": "code",
      "source": [
        "data.target_names"
      ],
      "metadata": {
        "colab": {
          "base_uri": "https://localhost:8080/"
        },
        "id": "VY9Od8jqxk8V",
        "outputId": "84a92ee1-8a69-4ee7-e56f-51790105c66a"
      },
      "id": "VY9Od8jqxk8V",
      "execution_count": null,
      "outputs": [
        {
          "output_type": "execute_result",
          "data": {
            "text/plain": [
              "array(['malignant', 'benign'], dtype='<U9')"
            ]
          },
          "metadata": {},
          "execution_count": 33
        }
      ]
    },
    {
      "cell_type": "markdown",
      "source": [
        "El dataset está compuesto por 30 características numéricas que describen diferentes aspectos físicos de los tumores, y la variable objetivo es un valor binario que clasifica a los tumores como malignos o benignos. Las características incluyen una variedad de métricas relacionadas con el tamaño, la textura y la forma de las células tumorales, y se utilizan para entrenar modelos de clasificación en la detección del cáncer de mama."
      ],
      "metadata": {
        "id": "-t32H9C1yERJ"
      },
      "id": "-t32H9C1yERJ"
    },
    {
      "cell_type": "code",
      "execution_count": null,
      "id": "bc3473e3-413c-47e4-b021-2a84da305956",
      "metadata": {
        "id": "bc3473e3-413c-47e4-b021-2a84da305956",
        "outputId": "211be038-9a60-4879-9291-4fc1d41ed669",
        "colab": {
          "base_uri": "https://localhost:8080/",
          "height": 290
        }
      },
      "outputs": [
        {
          "output_type": "execute_result",
          "data": {
            "text/plain": [
              "   mean radius  mean texture  mean perimeter  mean area  mean smoothness  \\\n",
              "0        17.99         10.38          122.80     1001.0          0.11840   \n",
              "1        20.57         17.77          132.90     1326.0          0.08474   \n",
              "2        19.69         21.25          130.00     1203.0          0.10960   \n",
              "3        11.42         20.38           77.58      386.1          0.14250   \n",
              "4        20.29         14.34          135.10     1297.0          0.10030   \n",
              "\n",
              "   mean compactness  mean concavity  mean concave points  mean symmetry  \\\n",
              "0           0.27760          0.3001              0.14710         0.2419   \n",
              "1           0.07864          0.0869              0.07017         0.1812   \n",
              "2           0.15990          0.1974              0.12790         0.2069   \n",
              "3           0.28390          0.2414              0.10520         0.2597   \n",
              "4           0.13280          0.1980              0.10430         0.1809   \n",
              "\n",
              "   mean fractal dimension  ...  worst texture  worst perimeter  worst area  \\\n",
              "0                 0.07871  ...          17.33           184.60      2019.0   \n",
              "1                 0.05667  ...          23.41           158.80      1956.0   \n",
              "2                 0.05999  ...          25.53           152.50      1709.0   \n",
              "3                 0.09744  ...          26.50            98.87       567.7   \n",
              "4                 0.05883  ...          16.67           152.20      1575.0   \n",
              "\n",
              "   worst smoothness  worst compactness  worst concavity  worst concave points  \\\n",
              "0            0.1622             0.6656           0.7119                0.2654   \n",
              "1            0.1238             0.1866           0.2416                0.1860   \n",
              "2            0.1444             0.4245           0.4504                0.2430   \n",
              "3            0.2098             0.8663           0.6869                0.2575   \n",
              "4            0.1374             0.2050           0.4000                0.1625   \n",
              "\n",
              "   worst symmetry  worst fractal dimension  target  \n",
              "0          0.4601                  0.11890       0  \n",
              "1          0.2750                  0.08902       0  \n",
              "2          0.3613                  0.08758       0  \n",
              "3          0.6638                  0.17300       0  \n",
              "4          0.2364                  0.07678       0  \n",
              "\n",
              "[5 rows x 31 columns]"
            ],
            "text/html": [
              "\n",
              "  <div id=\"df-21997cf6-7d9a-473e-bc3f-3a758a1cccc3\" class=\"colab-df-container\">\n",
              "    <div>\n",
              "<style scoped>\n",
              "    .dataframe tbody tr th:only-of-type {\n",
              "        vertical-align: middle;\n",
              "    }\n",
              "\n",
              "    .dataframe tbody tr th {\n",
              "        vertical-align: top;\n",
              "    }\n",
              "\n",
              "    .dataframe thead th {\n",
              "        text-align: right;\n",
              "    }\n",
              "</style>\n",
              "<table border=\"1\" class=\"dataframe\">\n",
              "  <thead>\n",
              "    <tr style=\"text-align: right;\">\n",
              "      <th></th>\n",
              "      <th>mean radius</th>\n",
              "      <th>mean texture</th>\n",
              "      <th>mean perimeter</th>\n",
              "      <th>mean area</th>\n",
              "      <th>mean smoothness</th>\n",
              "      <th>mean compactness</th>\n",
              "      <th>mean concavity</th>\n",
              "      <th>mean concave points</th>\n",
              "      <th>mean symmetry</th>\n",
              "      <th>mean fractal dimension</th>\n",
              "      <th>...</th>\n",
              "      <th>worst texture</th>\n",
              "      <th>worst perimeter</th>\n",
              "      <th>worst area</th>\n",
              "      <th>worst smoothness</th>\n",
              "      <th>worst compactness</th>\n",
              "      <th>worst concavity</th>\n",
              "      <th>worst concave points</th>\n",
              "      <th>worst symmetry</th>\n",
              "      <th>worst fractal dimension</th>\n",
              "      <th>target</th>\n",
              "    </tr>\n",
              "  </thead>\n",
              "  <tbody>\n",
              "    <tr>\n",
              "      <th>0</th>\n",
              "      <td>17.99</td>\n",
              "      <td>10.38</td>\n",
              "      <td>122.80</td>\n",
              "      <td>1001.0</td>\n",
              "      <td>0.11840</td>\n",
              "      <td>0.27760</td>\n",
              "      <td>0.3001</td>\n",
              "      <td>0.14710</td>\n",
              "      <td>0.2419</td>\n",
              "      <td>0.07871</td>\n",
              "      <td>...</td>\n",
              "      <td>17.33</td>\n",
              "      <td>184.60</td>\n",
              "      <td>2019.0</td>\n",
              "      <td>0.1622</td>\n",
              "      <td>0.6656</td>\n",
              "      <td>0.7119</td>\n",
              "      <td>0.2654</td>\n",
              "      <td>0.4601</td>\n",
              "      <td>0.11890</td>\n",
              "      <td>0</td>\n",
              "    </tr>\n",
              "    <tr>\n",
              "      <th>1</th>\n",
              "      <td>20.57</td>\n",
              "      <td>17.77</td>\n",
              "      <td>132.90</td>\n",
              "      <td>1326.0</td>\n",
              "      <td>0.08474</td>\n",
              "      <td>0.07864</td>\n",
              "      <td>0.0869</td>\n",
              "      <td>0.07017</td>\n",
              "      <td>0.1812</td>\n",
              "      <td>0.05667</td>\n",
              "      <td>...</td>\n",
              "      <td>23.41</td>\n",
              "      <td>158.80</td>\n",
              "      <td>1956.0</td>\n",
              "      <td>0.1238</td>\n",
              "      <td>0.1866</td>\n",
              "      <td>0.2416</td>\n",
              "      <td>0.1860</td>\n",
              "      <td>0.2750</td>\n",
              "      <td>0.08902</td>\n",
              "      <td>0</td>\n",
              "    </tr>\n",
              "    <tr>\n",
              "      <th>2</th>\n",
              "      <td>19.69</td>\n",
              "      <td>21.25</td>\n",
              "      <td>130.00</td>\n",
              "      <td>1203.0</td>\n",
              "      <td>0.10960</td>\n",
              "      <td>0.15990</td>\n",
              "      <td>0.1974</td>\n",
              "      <td>0.12790</td>\n",
              "      <td>0.2069</td>\n",
              "      <td>0.05999</td>\n",
              "      <td>...</td>\n",
              "      <td>25.53</td>\n",
              "      <td>152.50</td>\n",
              "      <td>1709.0</td>\n",
              "      <td>0.1444</td>\n",
              "      <td>0.4245</td>\n",
              "      <td>0.4504</td>\n",
              "      <td>0.2430</td>\n",
              "      <td>0.3613</td>\n",
              "      <td>0.08758</td>\n",
              "      <td>0</td>\n",
              "    </tr>\n",
              "    <tr>\n",
              "      <th>3</th>\n",
              "      <td>11.42</td>\n",
              "      <td>20.38</td>\n",
              "      <td>77.58</td>\n",
              "      <td>386.1</td>\n",
              "      <td>0.14250</td>\n",
              "      <td>0.28390</td>\n",
              "      <td>0.2414</td>\n",
              "      <td>0.10520</td>\n",
              "      <td>0.2597</td>\n",
              "      <td>0.09744</td>\n",
              "      <td>...</td>\n",
              "      <td>26.50</td>\n",
              "      <td>98.87</td>\n",
              "      <td>567.7</td>\n",
              "      <td>0.2098</td>\n",
              "      <td>0.8663</td>\n",
              "      <td>0.6869</td>\n",
              "      <td>0.2575</td>\n",
              "      <td>0.6638</td>\n",
              "      <td>0.17300</td>\n",
              "      <td>0</td>\n",
              "    </tr>\n",
              "    <tr>\n",
              "      <th>4</th>\n",
              "      <td>20.29</td>\n",
              "      <td>14.34</td>\n",
              "      <td>135.10</td>\n",
              "      <td>1297.0</td>\n",
              "      <td>0.10030</td>\n",
              "      <td>0.13280</td>\n",
              "      <td>0.1980</td>\n",
              "      <td>0.10430</td>\n",
              "      <td>0.1809</td>\n",
              "      <td>0.05883</td>\n",
              "      <td>...</td>\n",
              "      <td>16.67</td>\n",
              "      <td>152.20</td>\n",
              "      <td>1575.0</td>\n",
              "      <td>0.1374</td>\n",
              "      <td>0.2050</td>\n",
              "      <td>0.4000</td>\n",
              "      <td>0.1625</td>\n",
              "      <td>0.2364</td>\n",
              "      <td>0.07678</td>\n",
              "      <td>0</td>\n",
              "    </tr>\n",
              "  </tbody>\n",
              "</table>\n",
              "<p>5 rows × 31 columns</p>\n",
              "</div>\n",
              "    <div class=\"colab-df-buttons\">\n",
              "\n",
              "  <div class=\"colab-df-container\">\n",
              "    <button class=\"colab-df-convert\" onclick=\"convertToInteractive('df-21997cf6-7d9a-473e-bc3f-3a758a1cccc3')\"\n",
              "            title=\"Convert this dataframe to an interactive table.\"\n",
              "            style=\"display:none;\">\n",
              "\n",
              "  <svg xmlns=\"http://www.w3.org/2000/svg\" height=\"24px\" viewBox=\"0 -960 960 960\">\n",
              "    <path d=\"M120-120v-720h720v720H120Zm60-500h600v-160H180v160Zm220 220h160v-160H400v160Zm0 220h160v-160H400v160ZM180-400h160v-160H180v160Zm440 0h160v-160H620v160ZM180-180h160v-160H180v160Zm440 0h160v-160H620v160Z\"/>\n",
              "  </svg>\n",
              "    </button>\n",
              "\n",
              "  <style>\n",
              "    .colab-df-container {\n",
              "      display:flex;\n",
              "      gap: 12px;\n",
              "    }\n",
              "\n",
              "    .colab-df-convert {\n",
              "      background-color: #E8F0FE;\n",
              "      border: none;\n",
              "      border-radius: 50%;\n",
              "      cursor: pointer;\n",
              "      display: none;\n",
              "      fill: #1967D2;\n",
              "      height: 32px;\n",
              "      padding: 0 0 0 0;\n",
              "      width: 32px;\n",
              "    }\n",
              "\n",
              "    .colab-df-convert:hover {\n",
              "      background-color: #E2EBFA;\n",
              "      box-shadow: 0px 1px 2px rgba(60, 64, 67, 0.3), 0px 1px 3px 1px rgba(60, 64, 67, 0.15);\n",
              "      fill: #174EA6;\n",
              "    }\n",
              "\n",
              "    .colab-df-buttons div {\n",
              "      margin-bottom: 4px;\n",
              "    }\n",
              "\n",
              "    [theme=dark] .colab-df-convert {\n",
              "      background-color: #3B4455;\n",
              "      fill: #D2E3FC;\n",
              "    }\n",
              "\n",
              "    [theme=dark] .colab-df-convert:hover {\n",
              "      background-color: #434B5C;\n",
              "      box-shadow: 0px 1px 3px 1px rgba(0, 0, 0, 0.15);\n",
              "      filter: drop-shadow(0px 1px 2px rgba(0, 0, 0, 0.3));\n",
              "      fill: #FFFFFF;\n",
              "    }\n",
              "  </style>\n",
              "\n",
              "    <script>\n",
              "      const buttonEl =\n",
              "        document.querySelector('#df-21997cf6-7d9a-473e-bc3f-3a758a1cccc3 button.colab-df-convert');\n",
              "      buttonEl.style.display =\n",
              "        google.colab.kernel.accessAllowed ? 'block' : 'none';\n",
              "\n",
              "      async function convertToInteractive(key) {\n",
              "        const element = document.querySelector('#df-21997cf6-7d9a-473e-bc3f-3a758a1cccc3');\n",
              "        const dataTable =\n",
              "          await google.colab.kernel.invokeFunction('convertToInteractive',\n",
              "                                                    [key], {});\n",
              "        if (!dataTable) return;\n",
              "\n",
              "        const docLinkHtml = 'Like what you see? Visit the ' +\n",
              "          '<a target=\"_blank\" href=https://colab.research.google.com/notebooks/data_table.ipynb>data table notebook</a>'\n",
              "          + ' to learn more about interactive tables.';\n",
              "        element.innerHTML = '';\n",
              "        dataTable['output_type'] = 'display_data';\n",
              "        await google.colab.output.renderOutput(dataTable, element);\n",
              "        const docLink = document.createElement('div');\n",
              "        docLink.innerHTML = docLinkHtml;\n",
              "        element.appendChild(docLink);\n",
              "      }\n",
              "    </script>\n",
              "  </div>\n",
              "\n",
              "\n",
              "<div id=\"df-5c11fc33-78c7-48a5-bced-916d1f0b15bb\">\n",
              "  <button class=\"colab-df-quickchart\" onclick=\"quickchart('df-5c11fc33-78c7-48a5-bced-916d1f0b15bb')\"\n",
              "            title=\"Suggest charts\"\n",
              "            style=\"display:none;\">\n",
              "\n",
              "<svg xmlns=\"http://www.w3.org/2000/svg\" height=\"24px\"viewBox=\"0 0 24 24\"\n",
              "     width=\"24px\">\n",
              "    <g>\n",
              "        <path d=\"M19 3H5c-1.1 0-2 .9-2 2v14c0 1.1.9 2 2 2h14c1.1 0 2-.9 2-2V5c0-1.1-.9-2-2-2zM9 17H7v-7h2v7zm4 0h-2V7h2v10zm4 0h-2v-4h2v4z\"/>\n",
              "    </g>\n",
              "</svg>\n",
              "  </button>\n",
              "\n",
              "<style>\n",
              "  .colab-df-quickchart {\n",
              "      --bg-color: #E8F0FE;\n",
              "      --fill-color: #1967D2;\n",
              "      --hover-bg-color: #E2EBFA;\n",
              "      --hover-fill-color: #174EA6;\n",
              "      --disabled-fill-color: #AAA;\n",
              "      --disabled-bg-color: #DDD;\n",
              "  }\n",
              "\n",
              "  [theme=dark] .colab-df-quickchart {\n",
              "      --bg-color: #3B4455;\n",
              "      --fill-color: #D2E3FC;\n",
              "      --hover-bg-color: #434B5C;\n",
              "      --hover-fill-color: #FFFFFF;\n",
              "      --disabled-bg-color: #3B4455;\n",
              "      --disabled-fill-color: #666;\n",
              "  }\n",
              "\n",
              "  .colab-df-quickchart {\n",
              "    background-color: var(--bg-color);\n",
              "    border: none;\n",
              "    border-radius: 50%;\n",
              "    cursor: pointer;\n",
              "    display: none;\n",
              "    fill: var(--fill-color);\n",
              "    height: 32px;\n",
              "    padding: 0;\n",
              "    width: 32px;\n",
              "  }\n",
              "\n",
              "  .colab-df-quickchart:hover {\n",
              "    background-color: var(--hover-bg-color);\n",
              "    box-shadow: 0 1px 2px rgba(60, 64, 67, 0.3), 0 1px 3px 1px rgba(60, 64, 67, 0.15);\n",
              "    fill: var(--button-hover-fill-color);\n",
              "  }\n",
              "\n",
              "  .colab-df-quickchart-complete:disabled,\n",
              "  .colab-df-quickchart-complete:disabled:hover {\n",
              "    background-color: var(--disabled-bg-color);\n",
              "    fill: var(--disabled-fill-color);\n",
              "    box-shadow: none;\n",
              "  }\n",
              "\n",
              "  .colab-df-spinner {\n",
              "    border: 2px solid var(--fill-color);\n",
              "    border-color: transparent;\n",
              "    border-bottom-color: var(--fill-color);\n",
              "    animation:\n",
              "      spin 1s steps(1) infinite;\n",
              "  }\n",
              "\n",
              "  @keyframes spin {\n",
              "    0% {\n",
              "      border-color: transparent;\n",
              "      border-bottom-color: var(--fill-color);\n",
              "      border-left-color: var(--fill-color);\n",
              "    }\n",
              "    20% {\n",
              "      border-color: transparent;\n",
              "      border-left-color: var(--fill-color);\n",
              "      border-top-color: var(--fill-color);\n",
              "    }\n",
              "    30% {\n",
              "      border-color: transparent;\n",
              "      border-left-color: var(--fill-color);\n",
              "      border-top-color: var(--fill-color);\n",
              "      border-right-color: var(--fill-color);\n",
              "    }\n",
              "    40% {\n",
              "      border-color: transparent;\n",
              "      border-right-color: var(--fill-color);\n",
              "      border-top-color: var(--fill-color);\n",
              "    }\n",
              "    60% {\n",
              "      border-color: transparent;\n",
              "      border-right-color: var(--fill-color);\n",
              "    }\n",
              "    80% {\n",
              "      border-color: transparent;\n",
              "      border-right-color: var(--fill-color);\n",
              "      border-bottom-color: var(--fill-color);\n",
              "    }\n",
              "    90% {\n",
              "      border-color: transparent;\n",
              "      border-bottom-color: var(--fill-color);\n",
              "    }\n",
              "  }\n",
              "</style>\n",
              "\n",
              "  <script>\n",
              "    async function quickchart(key) {\n",
              "      const quickchartButtonEl =\n",
              "        document.querySelector('#' + key + ' button');\n",
              "      quickchartButtonEl.disabled = true;  // To prevent multiple clicks.\n",
              "      quickchartButtonEl.classList.add('colab-df-spinner');\n",
              "      try {\n",
              "        const charts = await google.colab.kernel.invokeFunction(\n",
              "            'suggestCharts', [key], {});\n",
              "      } catch (error) {\n",
              "        console.error('Error during call to suggestCharts:', error);\n",
              "      }\n",
              "      quickchartButtonEl.classList.remove('colab-df-spinner');\n",
              "      quickchartButtonEl.classList.add('colab-df-quickchart-complete');\n",
              "    }\n",
              "    (() => {\n",
              "      let quickchartButtonEl =\n",
              "        document.querySelector('#df-5c11fc33-78c7-48a5-bced-916d1f0b15bb button');\n",
              "      quickchartButtonEl.style.display =\n",
              "        google.colab.kernel.accessAllowed ? 'block' : 'none';\n",
              "    })();\n",
              "  </script>\n",
              "</div>\n",
              "\n",
              "    </div>\n",
              "  </div>\n"
            ],
            "application/vnd.google.colaboratory.intrinsic+json": {
              "type": "dataframe",
              "variable_name": "df"
            }
          },
          "metadata": {},
          "execution_count": 6
        }
      ],
      "source": [
        "# Crear DataFrame\n",
        "df = pd.DataFrame(data=data.data, columns=data.feature_names)\n",
        "df['target'] = data.target\n",
        "df.head()"
      ]
    },
    {
      "cell_type": "markdown",
      "id": "d5f0c7a6-4763-4871-9b29-60fc6edaceee",
      "metadata": {
        "id": "d5f0c7a6-4763-4871-9b29-60fc6edaceee"
      },
      "source": [
        "## 3. Preparar los Datos\n",
        "Dividimos los datos en conjunto de entrenamiento y conjunto de prueba."
      ]
    },
    {
      "cell_type": "code",
      "execution_count": null,
      "id": "169e8878-c211-4dbf-8f9f-b76059df6228",
      "metadata": {
        "id": "169e8878-c211-4dbf-8f9f-b76059df6228"
      },
      "outputs": [],
      "source": [
        "# Dividir el dataset en entrenamiento y prueba\n",
        "X_train, X_test, y_train, y_test = train_test_split(X, y, test_size=0.3, random_state=42)\n",
        "\n",
        "# Escalar los datos\n",
        "scaler = StandardScaler()\n",
        "X_train_scaled = scaler.fit_transform(X_train)\n",
        "X_test_scaled = scaler.transform(X_test)"
      ]
    },
    {
      "cell_type": "markdown",
      "id": "184ab3be-9955-4f17-9706-dcf155d2b4bf",
      "metadata": {
        "id": "184ab3be-9955-4f17-9706-dcf155d2b4bf"
      },
      "source": [
        "#### pregunta: ¿Por qué es importante escalar los datos antes de aplicar modelos de clasificación?"
      ]
    },
    {
      "cell_type": "markdown",
      "source": [
        "Escalar los datos antes de aplicar modelos de clasificación es crucial porque asegura que todas las características tengan la misma influencia en el modelo, mejora la eficiencia y convergencia de los algoritmos basados en gradiente, y evita sesgos en algoritmos basados en distancias, como k-NN. Además, ayuda a prevenir problemas numéricos y, en general, puede mejorar el rendimiento y la precisión del modelo."
      ],
      "metadata": {
        "id": "auBmH7cYo-Bl"
      },
      "id": "auBmH7cYo-Bl"
    },
    {
      "cell_type": "markdown",
      "id": "a1bdcc14-f24a-4601-9cc8-db8ba3c7945e",
      "metadata": {
        "id": "a1bdcc14-f24a-4601-9cc8-db8ba3c7945e"
      },
      "source": [
        "## 4. Entrenamiento de modelos:"
      ]
    },
    {
      "cell_type": "code",
      "execution_count": null,
      "id": "007509d2-9941-47df-b24b-bb8bf42891cb",
      "metadata": {
        "id": "007509d2-9941-47df-b24b-bb8bf42891cb"
      },
      "outputs": [],
      "source": [
        "# Inicializar modelos\n",
        "log_reg = LogisticRegression(max_iter=10000)\n",
        "\n",
        "# Entrenar los modelos\n",
        "log_reg.fit(X_train_scaled, y_train)\n",
        "\n",
        "# Realizar predicciones y calcular probabilidades\n",
        "y_prob_log_reg = log_reg.predict_proba(X_test_scaled)[:,1]"
      ]
    },
    {
      "cell_type": "markdown",
      "id": "18261799-e43a-4485-b0e8-a1de4430c7e1",
      "metadata": {
        "id": "18261799-e43a-4485-b0e8-a1de4430c7e1"
      },
      "source": [
        "## 5. Evaluación del desempeño del modelo:\n",
        "Calcularemos y mostraremos las métricas de evaluación para cada modelo, incluyendo el AUC."
      ]
    },
    {
      "cell_type": "code",
      "execution_count": null,
      "id": "ec721007-217f-4dc9-b309-2ccc2c35f8b4",
      "metadata": {
        "id": "ec721007-217f-4dc9-b309-2ccc2c35f8b4",
        "outputId": "61778eac-8d36-4aa8-ffe2-dfc0e756649f",
        "colab": {
          "base_uri": "https://localhost:8080/"
        }
      },
      "outputs": [
        {
          "output_type": "stream",
          "name": "stdout",
          "text": [
            "--- Logistic Regression ---\n",
            "Accuracy: \n",
            "0.9824561403508771\n",
            "\n",
            "Precision: \n",
            "0.9906542056074766\n",
            "\n",
            "Recall: \n",
            "0.9814814814814815\n",
            "\n",
            "F1 Score: \n",
            "0.986046511627907\n",
            "\n",
            "AUC: \n",
            "0.9979423868312757\n",
            "\n",
            "Confusion Matrix: \n",
            "[[ 62   1]\n",
            " [  2 106]]\n",
            "\n",
            "Classification Report: \n",
            "              precision    recall  f1-score   support\n",
            "\n",
            "           0       0.97      0.98      0.98        63\n",
            "           1       0.99      0.98      0.99       108\n",
            "\n",
            "    accuracy                           0.98       171\n",
            "   macro avg       0.98      0.98      0.98       171\n",
            "weighted avg       0.98      0.98      0.98       171\n",
            "\n",
            "\n"
          ]
        }
      ],
      "source": [
        "# Evaluar los modelos\n",
        "metrics = {}\n",
        "for name, y_prob in zip([\"Logistic Regression\"],\n",
        "                         [y_prob_log_reg]):\n",
        "\n",
        "    y_pred = (y_prob > 0.5).astype(int)  # Convertir probabilidades a clases utilizando umbral de 0.5\n",
        "\n",
        "    metrics[name] = {\n",
        "        \"Accuracy\": accuracy_score(y_test, y_pred),\n",
        "        \"Precision\": precision_score(y_test, y_pred),\n",
        "        \"Recall\": recall_score(y_test, y_pred),\n",
        "        \"F1 Score\": f1_score(y_test, y_pred),\n",
        "        \"AUC\": roc_auc_score(y_test, y_prob),\n",
        "        \"Confusion Matrix\": confusion_matrix(y_test, y_pred),\n",
        "        \"Classification Report\": classification_report(y_test, y_pred)\n",
        "    }\n",
        "\n",
        "# Mostrar resultados\n",
        "for model, metric in metrics.items():\n",
        "    print(f\"--- {model} ---\")\n",
        "    for key, value in metric.items():\n",
        "        print(f\"{key}: \\n{value}\\n\")\n"
      ]
    },
    {
      "cell_type": "code",
      "execution_count": null,
      "id": "4c9a6c06-b0ab-4241-bcef-42c1451320a7",
      "metadata": {
        "id": "4c9a6c06-b0ab-4241-bcef-42c1451320a7",
        "outputId": "43d773af-ccc5-4fe7-a30c-3667c5ff0e78"
      },
      "outputs": [
        {
          "data": {
            "image/png": "[encoded data removed]",
            "text/plain": [
              "<Figure size 640x480 with 2 Axes>"
            ]
          },
          "metadata": {},
          "output_type": "display_data"
        }
      ],
      "source": [
        "# Matriz de confusión\n",
        "y_pred = ( y_prob_log_reg> 0.5).astype(int)\n",
        "conf_matrix = confusion_matrix(y_test, y_pred)\n",
        "sns.heatmap(conf_matrix, annot=True, fmt='d', cmap='Blues',\n",
        "            xticklabels=['Benigno', 'Maligno'], yticklabels=['Benigno', 'Maligno'])\n",
        "plt.xlabel('Predicción')\n",
        "plt.ylabel('Real')\n",
        "plt.title('Matriz de Confusión')\n",
        "plt.show()\n"
      ]
    },
    {
      "cell_type": "markdown",
      "id": "294b279f-545d-4640-a402-1e05b3ba6366",
      "metadata": {
        "id": "294b279f-545d-4640-a402-1e05b3ba6366"
      },
      "source": [
        "### Preguntas: ¿Qué información te proporciona la matriz de confusión sobre el desempeño del modelo? ¿cuál es la exactitud y el error del modelo? ¿cómo se interpreta la precisión y recall?"
      ]
    },
    {
      "cell_type": "markdown",
      "source": [
        "La matriz de confusión muestra que el modelo clasifica correctamente la mayoría de los casos, con 106 predicciones correctas de maligno y 62 de benigno. La exactitud del modelo es del 98.25%, con un error del 1.75%. La precisión indica que el 99.06% de las predicciones de maligno son correctas, y el recall muestra que el 98.15% de los casos malignos reales son identificados correctamente. Esto refleja un excelente rendimiento del modelo en la clasificación de tumores."
      ],
      "metadata": {
        "id": "TKCl83tMphUJ"
      },
      "id": "TKCl83tMphUJ"
    },
    {
      "cell_type": "markdown",
      "id": "21bbf02b-701c-44f7-b32b-048a1add8131",
      "metadata": {
        "id": "21bbf02b-701c-44f7-b32b-048a1add8131"
      },
      "source": [
        "## 4. Ajustar el umbral de decisión:"
      ]
    },
    {
      "cell_type": "code",
      "execution_count": null,
      "id": "bf7645ef-6b05-473c-8f93-c90f55f778bb",
      "metadata": {
        "id": "bf7645ef-6b05-473c-8f93-c90f55f778bb",
        "outputId": "bd08ca0e-b7f0-44e1-ae65-9fa6bf081c45",
        "colab": {
          "base_uri": "https://localhost:8080/"
        }
      },
      "outputs": [
        {
          "output_type": "stream",
          "name": "stdout",
          "text": [
            "--- Logistic Regression ---\n",
            "Umbral: 0.3\n",
            "Accuracy: 0.9766081871345029\n",
            "Precision: 0.9727272727272728\n",
            "Recall: 0.9907407407407407\n",
            "F1 Score: 0.981651376146789\n",
            "AUC: 0.9979423868312757\n",
            "Confusion Matrix:\n",
            "[[ 60   3]\n",
            " [  1 107]]\n",
            "Classification Report:\n",
            "              precision    recall  f1-score   support\n",
            "\n",
            "           0       0.98      0.95      0.97        63\n",
            "           1       0.97      0.99      0.98       108\n",
            "\n",
            "    accuracy                           0.98       171\n",
            "   macro avg       0.98      0.97      0.97       171\n",
            "weighted avg       0.98      0.98      0.98       171\n",
            "\n",
            "\n",
            "\n",
            "Umbral: 0.5\n",
            "Accuracy: 0.9824561403508771\n",
            "Precision: 0.9906542056074766\n",
            "Recall: 0.9814814814814815\n",
            "F1 Score: 0.986046511627907\n",
            "AUC: 0.9979423868312757\n",
            "Confusion Matrix:\n",
            "[[ 62   1]\n",
            " [  2 106]]\n",
            "Classification Report:\n",
            "              precision    recall  f1-score   support\n",
            "\n",
            "           0       0.97      0.98      0.98        63\n",
            "           1       0.99      0.98      0.99       108\n",
            "\n",
            "    accuracy                           0.98       171\n",
            "   macro avg       0.98      0.98      0.98       171\n",
            "weighted avg       0.98      0.98      0.98       171\n",
            "\n",
            "\n",
            "\n",
            "Umbral: 0.7\n",
            "Accuracy: 0.9649122807017544\n",
            "Precision: 0.9903846153846154\n",
            "Recall: 0.9537037037037037\n",
            "F1 Score: 0.9716981132075472\n",
            "AUC: 0.9979423868312757\n",
            "Confusion Matrix:\n",
            "[[ 62   1]\n",
            " [  5 103]]\n",
            "Classification Report:\n",
            "              precision    recall  f1-score   support\n",
            "\n",
            "           0       0.93      0.98      0.95        63\n",
            "           1       0.99      0.95      0.97       108\n",
            "\n",
            "    accuracy                           0.96       171\n",
            "   macro avg       0.96      0.97      0.96       171\n",
            "weighted avg       0.97      0.96      0.97       171\n",
            "\n",
            "\n",
            "\n"
          ]
        }
      ],
      "source": [
        "# Definir una lista de umbrales\n",
        "thresholds = [0.3, 0.5, 0.7]\n",
        "\n",
        "for name, y_prob in zip([\"Logistic Regression\"],\n",
        "                         [y_prob_log_reg]):\n",
        "\n",
        "    print(f\"--- {name} ---\")\n",
        "    for threshold in thresholds:\n",
        "        y_pred_custom = (y_prob > threshold).astype(int)\n",
        "        print(f\"Umbral: {threshold}\")\n",
        "        print(f\"Accuracy: {accuracy_score(y_test, y_pred_custom)}\")\n",
        "        print(f\"Precision: {precision_score(y_test, y_pred_custom)}\")\n",
        "        print(f\"Recall: {recall_score(y_test, y_pred_custom)}\")\n",
        "        print(f\"F1 Score: {f1_score(y_test, y_pred_custom)}\")\n",
        "        print(f\"AUC: {roc_auc_score(y_test, y_prob)}\")\n",
        "        print(f\"Confusion Matrix:\\n{confusion_matrix(y_test, y_pred_custom)}\")\n",
        "        print(f\"Classification Report:\\n{classification_report(y_test, y_pred_custom)}\")\n",
        "        print(\"\\n\")\n"
      ]
    },
    {
      "cell_type": "code",
      "execution_count": null,
      "id": "76f755ce-9b0d-4d3b-84d4-84ed8e649991",
      "metadata": {
        "id": "76f755ce-9b0d-4d3b-84d4-84ed8e649991",
        "outputId": "47dab583-ce2a-4ce8-f862-a7c47793f7f8",
        "colab": {
          "base_uri": "https://localhost:8080/",
          "height": 564
        }
      },
      "outputs": [
        {
          "output_type": "display_data",
          "data": {
            "text/plain": [
              "<Figure size 800x600 with 1 Axes>"
            ],
            "image/png": "[encoded data removed]"
          },
          "metadata": {}
        }
      ],
      "source": [
        "from sklearn.metrics import roc_curve\n",
        "\n",
        "# Función para trazar la curva ROC\n",
        "def plot_roc_curve(y_test, y_prob, model_name):\n",
        "    fpr, tpr, _ = roc_curve(y_test, y_prob)\n",
        "    roc_auc = roc_auc_score(y_test, y_prob)\n",
        "\n",
        "    plt.figure(figsize=(8, 6))\n",
        "    plt.plot(fpr, tpr, label=f'ROC curve (area = {roc_auc:.2f})')\n",
        "    plt.plot([0, 1], [0, 1], 'k--')\n",
        "    plt.xlim([0.0, 1.0])\n",
        "    plt.ylim([0.0, 1.05])\n",
        "    plt.xlabel('False Positive Rate')\n",
        "    plt.ylabel('True Positive Rate')\n",
        "    plt.title(f'Receiver Operating Characteristic - {model_name}')\n",
        "    plt.legend(loc='lower right')\n",
        "    plt.show()\n",
        "\n",
        "# Graficar la curva ROC para cada modelo\n",
        "for name, y_prob in zip([\"Logistic Regression\"],\n",
        "                         [y_prob_log_reg]):\n",
        "    plot_roc_curve(y_test, y_prob, name)\n"
      ]
    },
    {
      "cell_type": "markdown",
      "id": "f8662ed7-0746-40c1-8c92-90556fde54ce",
      "metadata": {
        "id": "f8662ed7-0746-40c1-8c92-90556fde54ce"
      },
      "source": [
        "### Preguntas: ¿Qué información proporciona la curva ROC y el valor AUC sobre el rendimiento del modelo? ¿Por qué es importante el AUC?"
      ]
    },
    {
      "cell_type": "markdown",
      "source": [
        "La curva ROC  muestra cómo el modelo equilibra la detección de verdaderos positivos frente a falsos positivos en diferentes umbrales. El AUC, que en este caso es de 1.00, indica que el modelo tiene un rendimiento perfecto al distinguir entre las clases. Esto es un excelente resultado, pero también es importante considerar que un AUC de 1 podría ser una señal de sobreajuste (overfitting). El sobreajuste ocurre cuando el modelo ha aprendido demasiado bien los patrones específicos del conjunto de datos de entrenamiento, incluyendo posibles ruidos o detalles irrelevantes, lo que podría afectar negativamente su capacidad para generalizar a nuevos datos. Por lo tanto, aunque el AUC perfecto sugiere un rendimiento ideal, es prudente validar el modelo en diferentes conjuntos de datos o usar técnicas de validación cruzada para asegurarse de que este rendimiento no sea producto de un ajuste excesivo."
      ],
      "metadata": {
        "id": "0HC0vGRSp9Lw"
      },
      "id": "0HC0vGRSp9Lw"
    },
    {
      "cell_type": "markdown",
      "id": "c8c3e7ed-e716-44dd-97ff-c49c2d85582e",
      "metadata": {
        "id": "c8c3e7ed-e716-44dd-97ff-c49c2d85582e"
      },
      "source": [
        "### Ejercicio: Entrena un modelo de regresión con un algoritmo diferente y compara sus resultados con el modelo de regresión logística."
      ]
    },
    {
      "cell_type": "markdown",
      "source": [
        "# Entrenamiento de modelo via K-NN"
      ],
      "metadata": {
        "id": "fDZ1bqYErGc7"
      },
      "id": "fDZ1bqYErGc7"
    },
    {
      "cell_type": "markdown",
      "source": [
        "Para este modelo necesitamos saber cual es el k-vecino optimo"
      ],
      "metadata": {
        "id": "znr8eN8ZrbQR"
      },
      "id": "znr8eN8ZrbQR"
    },
    {
      "cell_type": "code",
      "source": [
        "import matplotlib.pyplot as plt\n",
        "import numpy as np\n",
        "from sklearn.model_selection import GridSearchCV\n",
        "from sklearn.neighbors import KNeighborsClassifier\n",
        "\n",
        "# Definir los valores de k a probar\n",
        "param_grid = {'n_neighbors': np.arange(1, 21)}\n",
        "\n",
        "# Inicializar el modelo k-NN\n",
        "knn = KNeighborsClassifier()\n",
        "\n",
        "# Configurar GridSearchCV\n",
        "knn_gs = GridSearchCV(knn, param_grid, cv=5, scoring='accuracy')\n",
        "\n",
        "# Entrenar usando GridSearchCV\n",
        "knn_gs.fit(X_train_scaled, y_train)\n",
        "\n",
        "# Mejor valor de k encontrado\n",
        "optimal_k = knn_gs.best_params_['n_neighbors']\n",
        "print(f\"El número óptimo de vecinos es {optimal_k}\")\n",
        "\n",
        "# Mejor score obtenido con ese valor de k\n",
        "best_score = knn_gs.best_score_\n",
        "print(f\"Mejor score obtenido: {best_score}\")\n",
        "\n",
        "# Graficar la precisión frente a los diferentes valores de k\n",
        "results = knn_gs.cv_results_\n",
        "plt.figure(figsize=(10, 6))\n",
        "plt.plot(param_grid['n_neighbors'], results['mean_test_score'], marker='o', label='Precisión')\n",
        "plt.axvline(x=optimal_k, color='red', linestyle='--', label=f'k óptimo = {optimal_k}')\n",
        "plt.xlabel('Número de Vecinos (k)')\n",
        "plt.ylabel('Precisión de Validación Cruzada')\n",
        "plt.title('Precisión vs Número de Vecinos (k) en k-NN')\n",
        "plt.legend()\n",
        "plt.grid(True)\n",
        "plt.show()\n",
        "\n"
      ],
      "metadata": {
        "colab": {
          "base_uri": "https://localhost:8080/",
          "height": 599
        },
        "id": "1luoqV5TrghM",
        "outputId": "b37fd885-a6be-4159-f87a-815f61ae0be4"
      },
      "id": "1luoqV5TrghM",
      "execution_count": null,
      "outputs": [
        {
          "output_type": "stream",
          "name": "stdout",
          "text": [
            "El número óptimo de vecinos es 14\n",
            "Mejor score obtenido: 0.9647468354430379\n"
          ]
        },
        {
          "output_type": "display_data",
          "data": {
            "text/plain": [
              "<Figure size 1000x600 with 1 Axes>"
            ],
            "image/png": "[encoded data removed]"
          },
          "metadata": {}
        }
      ]
    },
    {
      "cell_type": "markdown",
      "source": [
        "Se realiza búsqueda de hiperparámetros utilizando `GridSearchCV` para encontrar el número óptimo de vecinos (`n_neighbors`) en el modelo k-NN, identificando que 14 vecinos maximiza la precisión con un score de 0.9647 en la validación cruzada. en la grafica se puede observar como  varía la precisión según el número de vecinos,lo que puede  confirmar que 14 es el valor óptimo, asegurando que el modelo esté bien ajustado para obtener el mejor rendimiento posible."
      ],
      "metadata": {
        "id": "eeFxQcsVsg1Z"
      },
      "id": "eeFxQcsVsg1Z"
    },
    {
      "cell_type": "markdown",
      "source": [
        "## Entrenamiento"
      ],
      "metadata": {
        "id": "_f9RCEd9tf_2"
      },
      "id": "_f9RCEd9tf_2"
    },
    {
      "cell_type": "code",
      "execution_count": null,
      "id": "b626bcff-ea6d-4068-803d-e2e96c545bdb",
      "metadata": {
        "id": "b626bcff-ea6d-4068-803d-e2e96c545bdb"
      },
      "outputs": [],
      "source": [
        "from sklearn.neighbors import KNeighborsClassifier\n",
        "\n",
        "# Inicializar el modelo k-NN\n",
        "knn = KNeighborsClassifier(n_neighbors=14)\n",
        "\n",
        "# Entrenar el modelo k-NN\n",
        "knn.fit(X_train_scaled, y_train)\n",
        "\n",
        "# Realizar predicciones y calcular probabilidades\n",
        "y_prob_knn = knn.predict_proba(X_test_scaled)[:, 1]\n",
        "\n"
      ]
    },
    {
      "cell_type": "code",
      "execution_count": null,
      "id": "4672f082-bb17-47e9-b5ef-766377b52d03",
      "metadata": {
        "id": "4672f082-bb17-47e9-b5ef-766377b52d03",
        "colab": {
          "base_uri": "https://localhost:8080/"
        },
        "outputId": "d979d521-fca8-4d12-ff1f-2085aea81a18"
      },
      "outputs": [
        {
          "output_type": "stream",
          "name": "stdout",
          "text": [
            "--- k-NN ---\n",
            "Accuracy: \n",
            "0.9649122807017544\n",
            "\n",
            "Precision: \n",
            "0.9636363636363636\n",
            "\n",
            "Recall: \n",
            "0.9814814814814815\n",
            "\n",
            "F1 Score: \n",
            "0.9724770642201834\n",
            "\n",
            "AUC: \n",
            "0.9936067019400353\n",
            "\n",
            "Confusion Matrix: \n",
            "[[ 59   4]\n",
            " [  2 106]]\n",
            "\n",
            "Classification Report: \n",
            "              precision    recall  f1-score   support\n",
            "\n",
            "           0       0.97      0.94      0.95        63\n",
            "           1       0.96      0.98      0.97       108\n",
            "\n",
            "    accuracy                           0.96       171\n",
            "   macro avg       0.97      0.96      0.96       171\n",
            "weighted avg       0.96      0.96      0.96       171\n",
            "\n",
            "\n"
          ]
        }
      ],
      "source": [
        "from sklearn.metrics import accuracy_score, precision_score, recall_score, f1_score, roc_auc_score, confusion_matrix, classification_report\n",
        "\n",
        "# Evaluar el modelo k-NN\n",
        "metrics = {}\n",
        "for name, y_prob in zip([\"k-NN\"], [y_prob_knn]):\n",
        "\n",
        "    y_pred = (y_prob > 0.5).astype(int)  # Convertir probabilidades a clases utilizando un umbral de 0.5\n",
        "\n",
        "    metrics[name] = {\n",
        "        \"Accuracy\": accuracy_score(y_test, y_pred),\n",
        "        \"Precision\": precision_score(y_test, y_pred),\n",
        "        \"Recall\": recall_score(y_test, y_pred),\n",
        "        \"F1 Score\": f1_score(y_test, y_pred),\n",
        "        \"AUC\": roc_auc_score(y_test, y_prob),\n",
        "        \"Confusion Matrix\": confusion_matrix(y_test, y_pred),\n",
        "        \"Classification Report\": classification_report(y_test, y_pred)\n",
        "    }\n",
        "\n",
        "# Mostrar resultados\n",
        "for model, metric in metrics.items():\n",
        "    print(f\"--- {model} ---\")\n",
        "    for key, value in metric.items():\n",
        "        print(f\"{key}: \\n{value}\\n\")\n"
      ]
    },
    {
      "cell_type": "markdown",
      "source": [
        "# Matrix de confusion"
      ],
      "metadata": {
        "id": "wzCfr4CLuhep"
      },
      "id": "wzCfr4CLuhep"
    },
    {
      "cell_type": "code",
      "source": [
        "\n",
        "import seaborn as sns\n",
        "y_pred_knn = (y_prob_knn > 0.5).astype(int)\n",
        "\n",
        "# Matriz de confusión\n",
        "conf_matrix_knn = confusion_matrix(y_test, y_pred_knn)\n",
        "sns.heatmap(conf_matrix_knn, annot=True, fmt='d', cmap='Blues',\n",
        "            xticklabels=['Benigno', 'Maligno'], yticklabels=['Benigno', 'Maligno'])\n",
        "plt.xlabel('Predicción')\n",
        "plt.ylabel('Real')\n",
        "plt.title('Matriz de Confusión - k-NN')\n",
        "plt.show()"
      ],
      "metadata": {
        "colab": {
          "base_uri": "https://localhost:8080/",
          "height": 472
        },
        "id": "uTP7P0MTujut",
        "outputId": "9de1287f-a1d9-428c-fff9-8d8d17828b65"
      },
      "id": "uTP7P0MTujut",
      "execution_count": null,
      "outputs": [
        {
          "output_type": "display_data",
          "data": {
            "text/plain": [
              "<Figure size 640x480 with 2 Axes>"
            ],
            "image/png": "[encoded data removed]"
          },
          "metadata": {}
        }
      ]
    },
    {
      "cell_type": "markdown",
      "source": [
        "## Ajustar el umbral de decisión:K-NN"
      ],
      "metadata": {
        "id": "t8kOyZaouwBz"
      },
      "id": "t8kOyZaouwBz"
    },
    {
      "cell_type": "code",
      "source": [
        "# Definir una lista de umbrales\n",
        "thresholds = [0.3, 0.5, 0.7]\n",
        "\n",
        "# Evaluar el modelo k-NN con diferentes umbrales\n",
        "for name, y_prob in zip([\"k-NN\"], [y_prob_knn]):\n",
        "\n",
        "    print(f\"--- {name} ---\")\n",
        "    for threshold in thresholds:\n",
        "        y_pred_custom = (y_prob > threshold).astype(int)\n",
        "        print(f\"Umbral: {threshold}\")\n",
        "        print(f\"Accuracy: {accuracy_score(y_test, y_pred_custom)}\")\n",
        "        print(f\"Precision: {precision_score(y_test, y_pred_custom)}\")\n",
        "        print(f\"Recall: {recall_score(y_test, y_pred_custom)}\")\n",
        "        print(f\"F1 Score: {f1_score(y_test, y_pred_custom)}\")\n",
        "        print(f\"AUC: {roc_auc_score(y_test, y_prob)}\")\n",
        "        print(f\"Confusion Matrix:\\n{confusion_matrix(y_test, y_pred_custom)}\")\n",
        "        print(f\"Classification Report:\\n{classification_report(y_test, y_pred_custom)}\")\n",
        "        print(\"\\n\")\n"
      ],
      "metadata": {
        "colab": {
          "base_uri": "https://localhost:8080/"
        },
        "id": "SKVDZwuEu9KA",
        "outputId": "fcbfe6c5-4643-4e49-cd8d-afc944732c53"
      },
      "id": "SKVDZwuEu9KA",
      "execution_count": null,
      "outputs": [
        {
          "output_type": "stream",
          "name": "stdout",
          "text": [
            "--- k-NN ---\n",
            "Umbral: 0.3\n",
            "Accuracy: 0.9473684210526315\n",
            "Precision: 0.9304347826086956\n",
            "Recall: 0.9907407407407407\n",
            "F1 Score: 0.9596412556053812\n",
            "AUC: 0.9936067019400353\n",
            "Confusion Matrix:\n",
            "[[ 55   8]\n",
            " [  1 107]]\n",
            "Classification Report:\n",
            "              precision    recall  f1-score   support\n",
            "\n",
            "           0       0.98      0.87      0.92        63\n",
            "           1       0.93      0.99      0.96       108\n",
            "\n",
            "    accuracy                           0.95       171\n",
            "   macro avg       0.96      0.93      0.94       171\n",
            "weighted avg       0.95      0.95      0.95       171\n",
            "\n",
            "\n",
            "\n",
            "Umbral: 0.5\n",
            "Accuracy: 0.9649122807017544\n",
            "Precision: 0.9636363636363636\n",
            "Recall: 0.9814814814814815\n",
            "F1 Score: 0.9724770642201834\n",
            "AUC: 0.9936067019400353\n",
            "Confusion Matrix:\n",
            "[[ 59   4]\n",
            " [  2 106]]\n",
            "Classification Report:\n",
            "              precision    recall  f1-score   support\n",
            "\n",
            "           0       0.97      0.94      0.95        63\n",
            "           1       0.96      0.98      0.97       108\n",
            "\n",
            "    accuracy                           0.96       171\n",
            "   macro avg       0.97      0.96      0.96       171\n",
            "weighted avg       0.96      0.96      0.96       171\n",
            "\n",
            "\n",
            "\n",
            "Umbral: 0.7\n",
            "Accuracy: 0.9649122807017544\n",
            "Precision: 0.9722222222222222\n",
            "Recall: 0.9722222222222222\n",
            "F1 Score: 0.9722222222222222\n",
            "AUC: 0.9936067019400353\n",
            "Confusion Matrix:\n",
            "[[ 60   3]\n",
            " [  3 105]]\n",
            "Classification Report:\n",
            "              precision    recall  f1-score   support\n",
            "\n",
            "           0       0.95      0.95      0.95        63\n",
            "           1       0.97      0.97      0.97       108\n",
            "\n",
            "    accuracy                           0.96       171\n",
            "   macro avg       0.96      0.96      0.96       171\n",
            "weighted avg       0.96      0.96      0.96       171\n",
            "\n",
            "\n",
            "\n"
          ]
        }
      ]
    },
    {
      "cell_type": "markdown",
      "source": [
        "## ROC y AUC"
      ],
      "metadata": {
        "id": "mTDyaT1PvBlC"
      },
      "id": "mTDyaT1PvBlC"
    },
    {
      "cell_type": "code",
      "source": [
        "from sklearn.metrics import roc_curve, auc\n",
        "import matplotlib.pyplot as plt\n",
        "\n",
        "# Calcular las probabilidades predichas por el modelo k-NN\n",
        "y_prob_knn = knn.predict_proba(X_test_scaled)[:, 1]\n",
        "\n",
        "# Calcular la curva ROC\n",
        "fpr, tpr, thresholds = roc_curve(y_test, y_prob_knn)\n",
        "\n",
        "# Calcular el AUC\n",
        "roc_auc = auc(fpr, tpr)\n",
        "\n",
        "# Graficar la curva ROC\n",
        "plt.figure(figsize=(8, 6))\n",
        "plt.plot(fpr, tpr, color='blue', lw=2, label=f'ROC curve (AUC = {roc_auc:.2f})')\n",
        "plt.plot([0, 1], [0, 1], color='red', linestyle='--')\n",
        "plt.xlabel('Tasa de Falsos Positivos (FPR)')\n",
        "plt.ylabel('Tasa de Verdaderos Positivos (TPR)')\n",
        "plt.title('Curva ROC - k-NN')\n",
        "plt.legend(loc=\"lower right\")\n",
        "plt.grid(True)\n",
        "plt.show()\n"
      ],
      "metadata": {
        "colab": {
          "base_uri": "https://localhost:8080/",
          "height": 564
        },
        "id": "1--3hCPavMPx",
        "outputId": "cfdd0681-a460-4d66-dde4-ddad6c36160e"
      },
      "id": "1--3hCPavMPx",
      "execution_count": null,
      "outputs": [
        {
          "output_type": "display_data",
          "data": {
            "text/plain": [
              "<Figure size 800x600 with 1 Axes>"
            ],
            "image/png": "[encoded data removed]"
          },
          "metadata": {}
        }
      ]
    },
    {
      "cell_type": "markdown",
      "source": [
        "## Resumen del modelo K-NN"
      ],
      "metadata": {
        "id": "XNrRTiSFvVFm"
      },
      "id": "XNrRTiSFvVFm"
    },
    {
      "cell_type": "markdown",
      "source": [
        "El análisis mediante  el modelo k-NN para la clasificación de tumores, utilizando diferentes umbrales de decisión, muestra un rendimiento sólido y consistente a lo largo de diversas métricas.\n",
        "\n",
        "- Métricas Generales: El modelo k-NN alcanzó una alta precisión, recall, F1 Score, y AUC en todos los umbrales evaluados (0.3, 0.5, y 0.7). Esto indica que el modelo es robusto en la clasificación, con un balance adecuado entre la sensibilidad y la precisión.\n",
        "\n",
        "\n",
        "\n",
        "- Impacto del Umbral: Aunque el umbral de 0.5 es un punto de referencia común, los resultados muestran que ajustar el umbral puede afectar las métricas de clasificación. Por ejemplo, un umbral más bajo (0.3) aumenta el recall pero reduce ligeramente la precisión, lo que podría ser beneficioso en situaciones donde es crucial minimizar los falsos negativos. Un umbral más alto (0.7) mejora la precisión, pero podría pasar por alto algunos casos positivos.\n",
        "\n",
        "- Matriz de Confusión: Las matrices de confusión para cada umbral muestran que el modelo clasifica correctamente la mayoría de los casos, con solo unos pocos falsos positivos y falsos negativos, lo que demuestra su eficacia.\n",
        "\n",
        "- AUC y Curva ROC: El valor del AUC, cercano a 1.0 (0.9936), sugiere que el modelo tiene una excelente capacidad para distinguir entre las clases benignas y malignas, como se observa en la curva ROC. Esto refuerza la idea de que k-NN es un clasificador muy efectivo en este contexto.\n",
        "\n",
        "**Conclusión**\n",
        "El modelo k-NN, con 14 vecinos, muestra ser una buena opción para la clasificación de tumores en este conjunto de datos, logrando un alto rendimiento en todas las métricas importantes. La elección del umbral de decisión puede afinarse dependiendo de las prioridades clínicas, como la necesidad de maximizar el recall para capturar todos los casos malignos o la precisión para evitar falsos positivos"
      ],
      "metadata": {
        "id": "E2m4zZWhv0BG"
      },
      "id": "E2m4zZWhv0BG"
    },
    {
      "cell_type": "markdown",
      "source": [
        "# Comparacion logistico vs K-NN\n",
        "Comparando los modelos de regresión logística y k-NN en el contexto de la clasificación de tumores:\n",
        "\n",
        "- **Precisión y Recall**: Ambos modelos mostraron un alto rendimiento con precisión y recall cercanos al 97-98%. Sin embargo, la regresión logística tiende a ser más robusta cuando las relaciones entre las variables son lineales, mientras que k-NN es más flexible y puede captar relaciones no lineales, ajustándose mejor a patrones complejos en los datos.\n",
        "\n",
        "- **AUC**:La regresión logística demostró un rendimiento ligeramente superior con un AUC perfecto, lo que sugiere que es ideal cuando se busca una separación de clases impecable en este conjunto de datos. k-NN sigue siendo un modelo muy efectivo, especialmente en escenarios donde las relaciones no son lineales, ofreciendo una excelente capacidad de clasificación aunque no llegue al nivel de perfección de la regresión logística.\n",
        "\n",
        "- **Umbral de decisión**: La regresión logística es más interpretativa y directa en términos de probabilidades, mientras que k-NN permite ajustar el número de vecinos y el umbral de decisión para mejorar la clasificación en diferentes contextos.\n",
        "\n",
        "**Conclusión**\n",
        "Tanto la regresión logística como k-NN son modelos altamente efectivos para la clasificación de tumores en este conjunto de datos, con un rendimiento casi idéntico en términos de AUC y precisión. La elección entre ambos puede depender del tipo de relación entre las variables: la regresión logística es ideal para relaciones lineales, mientras que k-NN es más adecuado para datos más complejos o no lineales, ofreciendo flexibilidad adicional con la posibilidad de ajustar el umbral y el número de vecinos.\n",
        "\n",
        "\n",
        "\n",
        "\n",
        "\n",
        "\n"
      ],
      "metadata": {
        "id": "8C3P6WFPwaft"
      },
      "id": "8C3P6WFPwaft"
    }
  ],
  "metadata": {
    "kernelspec": {
      "display_name": "Python 3 (ipykernel)",
      "language": "python",
      "name": "python3"
    },
    "language_info": {
      "codemirror_mode": {
        "name": "ipython",
        "version": 3
      },
      "file_extension": ".py",
      "mimetype": "text/x-python",
      "name": "python",
      "nbconvert_exporter": "python",
      "pygments_lexer": "ipython3",
      "version": "3.9.12"
    },
    "colab": {
      "provenance": []
    }
  },
  "nbformat": 4,
  "nbformat_minor": 5
}