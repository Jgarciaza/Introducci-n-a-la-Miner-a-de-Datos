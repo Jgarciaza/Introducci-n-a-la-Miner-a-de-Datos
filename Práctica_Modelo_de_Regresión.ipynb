{
  "cells": [
    {
      "cell_type": "markdown",
      "id": "07607391-a021-432e-bbff-2a7d2ad09b08",
      "metadata": {
        "id": "07607391-a021-432e-bbff-2a7d2ad09b08"
      },
      "source": [
        "# Notebook: Entrenamiento y Prueba de Modelos de Regresión"
      ]
    },
    {
      "cell_type": "markdown",
      "source": [
        "Juan David Garcia Zapata"
      ],
      "metadata": {
        "id": "VNYo91dIErbE"
      },
      "id": "VNYo91dIErbE"
    },
    {
      "cell_type": "markdown",
      "id": "7c6e7d78-3622-42f5-b8a2-9fd1c7ab6659",
      "metadata": {
        "id": "7c6e7d78-3622-42f5-b8a2-9fd1c7ab6659"
      },
      "source": [
        "### Objetivo\n",
        "En este notebook, aprenderás a entrenar y evaluar modelos de regresión usando la base de datos de Boston, calcular el Population Stability Index (PSI) y aplicar validación cruzada para obtener una estimación más robusta del rendimiento del modelo."
      ]
    },
    {
      "cell_type": "markdown",
      "id": "1a954b4c-4fde-4716-bf02-b7c3c30f6f78",
      "metadata": {
        "id": "1a954b4c-4fde-4716-bf02-b7c3c30f6f78"
      },
      "source": [
        "### 1. Cargar y explorar la base de datos:"
      ]
    },
    {
      "cell_type": "code",
      "execution_count": null,
      "id": "e0391ab6-ed92-4e3e-9d38-9c6cd028dee6",
      "metadata": {
        "id": "e0391ab6-ed92-4e3e-9d38-9c6cd028dee6",
        "outputId": "4dfc0a58-6035-410d-98fe-e47d8759fd62",
        "colab": {
          "base_uri": "https://localhost:8080/",
          "height": 206
        }
      },
      "outputs": [
        {
          "output_type": "execute_result",
          "data": {
            "text/plain": [
              "   MedInc  HouseAge  AveRooms  AveBedrms  Population  AveOccup  Latitude  \\\n",
              "0  8.3252      41.0  6.984127   1.023810       322.0  2.555556     37.88   \n",
              "1  8.3014      21.0  6.238137   0.971880      2401.0  2.109842     37.86   \n",
              "2  7.2574      52.0  8.288136   1.073446       496.0  2.802260     37.85   \n",
              "3  5.6431      52.0  5.817352   1.073059       558.0  2.547945     37.85   \n",
              "4  3.8462      52.0  6.281853   1.081081       565.0  2.181467     37.85   \n",
              "\n",
              "   Longitude   MEDV  \n",
              "0    -122.23  4.526  \n",
              "1    -122.22  3.585  \n",
              "2    -122.24  3.521  \n",
              "3    -122.25  3.413  \n",
              "4    -122.25  3.422  "
            ],
            "text/html": [
              "\n",
              "  <div id=\"df-6754aa9c-5388-4e9c-822a-c25a280c2c7e\" class=\"colab-df-container\">\n",
              "    <div>\n",
              "<style scoped>\n",
              "    .dataframe tbody tr th:only-of-type {\n",
              "        vertical-align: middle;\n",
              "    }\n",
              "\n",
              "    .dataframe tbody tr th {\n",
              "        vertical-align: top;\n",
              "    }\n",
              "\n",
              "    .dataframe thead th {\n",
              "        text-align: right;\n",
              "    }\n",
              "</style>\n",
              "<table border=\"1\" class=\"dataframe\">\n",
              "  <thead>\n",
              "    <tr style=\"text-align: right;\">\n",
              "      <th></th>\n",
              "      <th>MedInc</th>\n",
              "      <th>HouseAge</th>\n",
              "      <th>AveRooms</th>\n",
              "      <th>AveBedrms</th>\n",
              "      <th>Population</th>\n",
              "      <th>AveOccup</th>\n",
              "      <th>Latitude</th>\n",
              "      <th>Longitude</th>\n",
              "      <th>MEDV</th>\n",
              "    </tr>\n",
              "  </thead>\n",
              "  <tbody>\n",
              "    <tr>\n",
              "      <th>0</th>\n",
              "      <td>8.3252</td>\n",
              "      <td>41.0</td>\n",
              "      <td>6.984127</td>\n",
              "      <td>1.023810</td>\n",
              "      <td>322.0</td>\n",
              "      <td>2.555556</td>\n",
              "      <td>37.88</td>\n",
              "      <td>-122.23</td>\n",
              "      <td>4.526</td>\n",
              "    </tr>\n",
              "    <tr>\n",
              "      <th>1</th>\n",
              "      <td>8.3014</td>\n",
              "      <td>21.0</td>\n",
              "      <td>6.238137</td>\n",
              "      <td>0.971880</td>\n",
              "      <td>2401.0</td>\n",
              "      <td>2.109842</td>\n",
              "      <td>37.86</td>\n",
              "      <td>-122.22</td>\n",
              "      <td>3.585</td>\n",
              "    </tr>\n",
              "    <tr>\n",
              "      <th>2</th>\n",
              "      <td>7.2574</td>\n",
              "      <td>52.0</td>\n",
              "      <td>8.288136</td>\n",
              "      <td>1.073446</td>\n",
              "      <td>496.0</td>\n",
              "      <td>2.802260</td>\n",
              "      <td>37.85</td>\n",
              "      <td>-122.24</td>\n",
              "      <td>3.521</td>\n",
              "    </tr>\n",
              "    <tr>\n",
              "      <th>3</th>\n",
              "      <td>5.6431</td>\n",
              "      <td>52.0</td>\n",
              "      <td>5.817352</td>\n",
              "      <td>1.073059</td>\n",
              "      <td>558.0</td>\n",
              "      <td>2.547945</td>\n",
              "      <td>37.85</td>\n",
              "      <td>-122.25</td>\n",
              "      <td>3.413</td>\n",
              "    </tr>\n",
              "    <tr>\n",
              "      <th>4</th>\n",
              "      <td>3.8462</td>\n",
              "      <td>52.0</td>\n",
              "      <td>6.281853</td>\n",
              "      <td>1.081081</td>\n",
              "      <td>565.0</td>\n",
              "      <td>2.181467</td>\n",
              "      <td>37.85</td>\n",
              "      <td>-122.25</td>\n",
              "      <td>3.422</td>\n",
              "    </tr>\n",
              "  </tbody>\n",
              "</table>\n",
              "</div>\n",
              "    <div class=\"colab-df-buttons\">\n",
              "\n",
              "  <div class=\"colab-df-container\">\n",
              "    <button class=\"colab-df-convert\" onclick=\"convertToInteractive('df-6754aa9c-5388-4e9c-822a-c25a280c2c7e')\"\n",
              "            title=\"Convert this dataframe to an interactive table.\"\n",
              "            style=\"display:none;\">\n",
              "\n",
              "  <svg xmlns=\"http://www.w3.org/2000/svg\" height=\"24px\" viewBox=\"0 -960 960 960\">\n",
              "    <path d=\"M120-120v-720h720v720H120Zm60-500h600v-160H180v160Zm220 220h160v-160H400v160Zm0 220h160v-160H400v160ZM180-400h160v-160H180v160Zm440 0h160v-160H620v160ZM180-180h160v-160H180v160Zm440 0h160v-160H620v160Z\"/>\n",
              "  </svg>\n",
              "    </button>\n",
              "\n",
              "  <style>\n",
              "    .colab-df-container {\n",
              "      display:flex;\n",
              "      gap: 12px;\n",
              "    }\n",
              "\n",
              "    .colab-df-convert {\n",
              "      background-color: #E8F0FE;\n",
              "      border: none;\n",
              "      border-radius: 50%;\n",
              "      cursor: pointer;\n",
              "      display: none;\n",
              "      fill: #1967D2;\n",
              "      height: 32px;\n",
              "      padding: 0 0 0 0;\n",
              "      width: 32px;\n",
              "    }\n",
              "\n",
              "    .colab-df-convert:hover {\n",
              "      background-color: #E2EBFA;\n",
              "      box-shadow: 0px 1px 2px rgba(60, 64, 67, 0.3), 0px 1px 3px 1px rgba(60, 64, 67, 0.15);\n",
              "      fill: #174EA6;\n",
              "    }\n",
              "\n",
              "    .colab-df-buttons div {\n",
              "      margin-bottom: 4px;\n",
              "    }\n",
              "\n",
              "    [theme=dark] .colab-df-convert {\n",
              "      background-color: #3B4455;\n",
              "      fill: #D2E3FC;\n",
              "    }\n",
              "\n",
              "    [theme=dark] .colab-df-convert:hover {\n",
              "      background-color: #434B5C;\n",
              "      box-shadow: 0px 1px 3px 1px rgba(0, 0, 0, 0.15);\n",
              "      filter: drop-shadow(0px 1px 2px rgba(0, 0, 0, 0.3));\n",
              "      fill: #FFFFFF;\n",
              "    }\n",
              "  </style>\n",
              "\n",
              "    <script>\n",
              "      const buttonEl =\n",
              "        document.querySelector('#df-6754aa9c-5388-4e9c-822a-c25a280c2c7e button.colab-df-convert');\n",
              "      buttonEl.style.display =\n",
              "        google.colab.kernel.accessAllowed ? 'block' : 'none';\n",
              "\n",
              "      async function convertToInteractive(key) {\n",
              "        const element = document.querySelector('#df-6754aa9c-5388-4e9c-822a-c25a280c2c7e');\n",
              "        const dataTable =\n",
              "          await google.colab.kernel.invokeFunction('convertToInteractive',\n",
              "                                                    [key], {});\n",
              "        if (!dataTable) return;\n",
              "\n",
              "        const docLinkHtml = 'Like what you see? Visit the ' +\n",
              "          '<a target=\"_blank\" href=https://colab.research.google.com/notebooks/data_table.ipynb>data table notebook</a>'\n",
              "          + ' to learn more about interactive tables.';\n",
              "        element.innerHTML = '';\n",
              "        dataTable['output_type'] = 'display_data';\n",
              "        await google.colab.output.renderOutput(dataTable, element);\n",
              "        const docLink = document.createElement('div');\n",
              "        docLink.innerHTML = docLinkHtml;\n",
              "        element.appendChild(docLink);\n",
              "      }\n",
              "    </script>\n",
              "  </div>\n",
              "\n",
              "\n",
              "<div id=\"df-8b378ada-cb99-4a2e-80ff-fe96e99e6164\">\n",
              "  <button class=\"colab-df-quickchart\" onclick=\"quickchart('df-8b378ada-cb99-4a2e-80ff-fe96e99e6164')\"\n",
              "            title=\"Suggest charts\"\n",
              "            style=\"display:none;\">\n",
              "\n",
              "<svg xmlns=\"http://www.w3.org/2000/svg\" height=\"24px\"viewBox=\"0 0 24 24\"\n",
              "     width=\"24px\">\n",
              "    <g>\n",
              "        <path d=\"M19 3H5c-1.1 0-2 .9-2 2v14c0 1.1.9 2 2 2h14c1.1 0 2-.9 2-2V5c0-1.1-.9-2-2-2zM9 17H7v-7h2v7zm4 0h-2V7h2v10zm4 0h-2v-4h2v4z\"/>\n",
              "    </g>\n",
              "</svg>\n",
              "  </button>\n",
              "\n",
              "<style>\n",
              "  .colab-df-quickchart {\n",
              "      --bg-color: #E8F0FE;\n",
              "      --fill-color: #1967D2;\n",
              "      --hover-bg-color: #E2EBFA;\n",
              "      --hover-fill-color: #174EA6;\n",
              "      --disabled-fill-color: #AAA;\n",
              "      --disabled-bg-color: #DDD;\n",
              "  }\n",
              "\n",
              "  [theme=dark] .colab-df-quickchart {\n",
              "      --bg-color: #3B4455;\n",
              "      --fill-color: #D2E3FC;\n",
              "      --hover-bg-color: #434B5C;\n",
              "      --hover-fill-color: #FFFFFF;\n",
              "      --disabled-bg-color: #3B4455;\n",
              "      --disabled-fill-color: #666;\n",
              "  }\n",
              "\n",
              "  .colab-df-quickchart {\n",
              "    background-color: var(--bg-color);\n",
              "    border: none;\n",
              "    border-radius: 50%;\n",
              "    cursor: pointer;\n",
              "    display: none;\n",
              "    fill: var(--fill-color);\n",
              "    height: 32px;\n",
              "    padding: 0;\n",
              "    width: 32px;\n",
              "  }\n",
              "\n",
              "  .colab-df-quickchart:hover {\n",
              "    background-color: var(--hover-bg-color);\n",
              "    box-shadow: 0 1px 2px rgba(60, 64, 67, 0.3), 0 1px 3px 1px rgba(60, 64, 67, 0.15);\n",
              "    fill: var(--button-hover-fill-color);\n",
              "  }\n",
              "\n",
              "  .colab-df-quickchart-complete:disabled,\n",
              "  .colab-df-quickchart-complete:disabled:hover {\n",
              "    background-color: var(--disabled-bg-color);\n",
              "    fill: var(--disabled-fill-color);\n",
              "    box-shadow: none;\n",
              "  }\n",
              "\n",
              "  .colab-df-spinner {\n",
              "    border: 2px solid var(--fill-color);\n",
              "    border-color: transparent;\n",
              "    border-bottom-color: var(--fill-color);\n",
              "    animation:\n",
              "      spin 1s steps(1) infinite;\n",
              "  }\n",
              "\n",
              "  @keyframes spin {\n",
              "    0% {\n",
              "      border-color: transparent;\n",
              "      border-bottom-color: var(--fill-color);\n",
              "      border-left-color: var(--fill-color);\n",
              "    }\n",
              "    20% {\n",
              "      border-color: transparent;\n",
              "      border-left-color: var(--fill-color);\n",
              "      border-top-color: var(--fill-color);\n",
              "    }\n",
              "    30% {\n",
              "      border-color: transparent;\n",
              "      border-left-color: var(--fill-color);\n",
              "      border-top-color: var(--fill-color);\n",
              "      border-right-color: var(--fill-color);\n",
              "    }\n",
              "    40% {\n",
              "      border-color: transparent;\n",
              "      border-right-color: var(--fill-color);\n",
              "      border-top-color: var(--fill-color);\n",
              "    }\n",
              "    60% {\n",
              "      border-color: transparent;\n",
              "      border-right-color: var(--fill-color);\n",
              "    }\n",
              "    80% {\n",
              "      border-color: transparent;\n",
              "      border-right-color: var(--fill-color);\n",
              "      border-bottom-color: var(--fill-color);\n",
              "    }\n",
              "    90% {\n",
              "      border-color: transparent;\n",
              "      border-bottom-color: var(--fill-color);\n",
              "    }\n",
              "  }\n",
              "</style>\n",
              "\n",
              "  <script>\n",
              "    async function quickchart(key) {\n",
              "      const quickchartButtonEl =\n",
              "        document.querySelector('#' + key + ' button');\n",
              "      quickchartButtonEl.disabled = true;  // To prevent multiple clicks.\n",
              "      quickchartButtonEl.classList.add('colab-df-spinner');\n",
              "      try {\n",
              "        const charts = await google.colab.kernel.invokeFunction(\n",
              "            'suggestCharts', [key], {});\n",
              "      } catch (error) {\n",
              "        console.error('Error during call to suggestCharts:', error);\n",
              "      }\n",
              "      quickchartButtonEl.classList.remove('colab-df-spinner');\n",
              "      quickchartButtonEl.classList.add('colab-df-quickchart-complete');\n",
              "    }\n",
              "    (() => {\n",
              "      let quickchartButtonEl =\n",
              "        document.querySelector('#df-8b378ada-cb99-4a2e-80ff-fe96e99e6164 button');\n",
              "      quickchartButtonEl.style.display =\n",
              "        google.colab.kernel.accessAllowed ? 'block' : 'none';\n",
              "    })();\n",
              "  </script>\n",
              "</div>\n",
              "\n",
              "    </div>\n",
              "  </div>\n"
            ],
            "application/vnd.google.colaboratory.intrinsic+json": {
              "type": "dataframe",
              "variable_name": "data",
              "summary": "{\n  \"name\": \"data\",\n  \"rows\": 20640,\n  \"fields\": [\n    {\n      \"column\": \"MedInc\",\n      \"properties\": {\n        \"dtype\": \"number\",\n        \"std\": 1.8998217179452688,\n        \"min\": 0.4999,\n        \"max\": 15.0001,\n        \"num_unique_values\": 12928,\n        \"samples\": [\n          5.0286,\n          2.0433,\n          6.1228\n        ],\n        \"semantic_type\": \"\",\n        \"description\": \"\"\n      }\n    },\n    {\n      \"column\": \"HouseAge\",\n      \"properties\": {\n        \"dtype\": \"number\",\n        \"std\": 12.58555761211165,\n        \"min\": 1.0,\n        \"max\": 52.0,\n        \"num_unique_values\": 52,\n        \"samples\": [\n          35.0,\n          25.0,\n          7.0\n        ],\n        \"semantic_type\": \"\",\n        \"description\": \"\"\n      }\n    },\n    {\n      \"column\": \"AveRooms\",\n      \"properties\": {\n        \"dtype\": \"number\",\n        \"std\": 2.4741731394243187,\n        \"min\": 0.8461538461538461,\n        \"max\": 141.9090909090909,\n        \"num_unique_values\": 19392,\n        \"samples\": [\n          6.111269614835948,\n          5.912820512820513,\n          5.7924528301886795\n        ],\n        \"semantic_type\": \"\",\n        \"description\": \"\"\n      }\n    },\n    {\n      \"column\": \"AveBedrms\",\n      \"properties\": {\n        \"dtype\": \"number\",\n        \"std\": 0.473910856795466,\n        \"min\": 0.3333333333333333,\n        \"max\": 34.06666666666667,\n        \"num_unique_values\": 14233,\n        \"samples\": [\n          0.9906542056074766,\n          1.112099644128114,\n          1.0398230088495575\n        ],\n        \"semantic_type\": \"\",\n        \"description\": \"\"\n      }\n    },\n    {\n      \"column\": \"Population\",\n      \"properties\": {\n        \"dtype\": \"number\",\n        \"std\": 1132.462121765341,\n        \"min\": 3.0,\n        \"max\": 35682.0,\n        \"num_unique_values\": 3888,\n        \"samples\": [\n          4169.0,\n          636.0,\n          3367.0\n        ],\n        \"semantic_type\": \"\",\n        \"description\": \"\"\n      }\n    },\n    {\n      \"column\": \"AveOccup\",\n      \"properties\": {\n        \"dtype\": \"number\",\n        \"std\": 10.386049562213618,\n        \"min\": 0.6923076923076923,\n        \"max\": 1243.3333333333333,\n        \"num_unique_values\": 18841,\n        \"samples\": [\n          2.6939799331103678,\n          3.559375,\n          3.297082228116711\n        ],\n        \"semantic_type\": \"\",\n        \"description\": \"\"\n      }\n    },\n    {\n      \"column\": \"Latitude\",\n      \"properties\": {\n        \"dtype\": \"number\",\n        \"std\": 2.1359523974571153,\n        \"min\": 32.54,\n        \"max\": 41.95,\n        \"num_unique_values\": 862,\n        \"samples\": [\n          33.7,\n          34.41,\n          38.24\n        ],\n        \"semantic_type\": \"\",\n        \"description\": \"\"\n      }\n    },\n    {\n      \"column\": \"Longitude\",\n      \"properties\": {\n        \"dtype\": \"number\",\n        \"std\": 2.0035317235025882,\n        \"min\": -124.35,\n        \"max\": -114.31,\n        \"num_unique_values\": 844,\n        \"samples\": [\n          -118.63,\n          -119.86,\n          -121.26\n        ],\n        \"semantic_type\": \"\",\n        \"description\": \"\"\n      }\n    },\n    {\n      \"column\": \"MEDV\",\n      \"properties\": {\n        \"dtype\": \"number\",\n        \"std\": 1.1539561587441387,\n        \"min\": 0.14999,\n        \"max\": 5.00001,\n        \"num_unique_values\": 3842,\n        \"samples\": [\n          1.943,\n          3.79,\n          2.301\n        ],\n        \"semantic_type\": \"\",\n        \"description\": \"\"\n      }\n    }\n  ]\n}"
            }
          },
          "metadata": {},
          "execution_count": 3
        }
      ],
      "source": [
        "import pandas as pd\n",
        "from sklearn.datasets import fetch_california_housing\n",
        "\n",
        "# Cargar la base de datos de California\n",
        "california = fetch_california_housing()\n",
        "data = pd.DataFrame(california.data, columns=california.feature_names)\n",
        "data['MEDV'] = california.target\n",
        "\n",
        "# Mostrar las primeras filas del DataFrame\n",
        "data.head()\n"
      ]
    },
    {
      "cell_type": "code",
      "execution_count": null,
      "id": "18ccb56c-6513-4b72-87e9-c68c90174ac3",
      "metadata": {
        "id": "18ccb56c-6513-4b72-87e9-c68c90174ac3",
        "outputId": "be788219-6485-4a31-f627-6667f2b51337",
        "colab": {
          "base_uri": "https://localhost:8080/"
        }
      },
      "outputs": [
        {
          "output_type": "stream",
          "name": "stdout",
          "text": [
            "             MedInc      HouseAge      AveRooms     AveBedrms    Population  \\\n",
            "count  20640.000000  20640.000000  20640.000000  20640.000000  20640.000000   \n",
            "mean       3.870671     28.639486      5.429000      1.096675   1425.476744   \n",
            "std        1.899822     12.585558      2.474173      0.473911   1132.462122   \n",
            "min        0.499900      1.000000      0.846154      0.333333      3.000000   \n",
            "25%        2.563400     18.000000      4.440716      1.006079    787.000000   \n",
            "50%        3.534800     29.000000      5.229129      1.048780   1166.000000   \n",
            "75%        4.743250     37.000000      6.052381      1.099526   1725.000000   \n",
            "max       15.000100     52.000000    141.909091     34.066667  35682.000000   \n",
            "\n",
            "           AveOccup      Latitude     Longitude          MEDV  \n",
            "count  20640.000000  20640.000000  20640.000000  20640.000000  \n",
            "mean       3.070655     35.631861   -119.569704      2.068558  \n",
            "std       10.386050      2.135952      2.003532      1.153956  \n",
            "min        0.692308     32.540000   -124.350000      0.149990  \n",
            "25%        2.429741     33.930000   -121.800000      1.196000  \n",
            "50%        2.818116     34.260000   -118.490000      1.797000  \n",
            "75%        3.282261     37.710000   -118.010000      2.647250  \n",
            "max     1243.333333     41.950000   -114.310000      5.000010  \n"
          ]
        }
      ],
      "source": [
        "print(data.describe())"
      ]
    },
    {
      "cell_type": "markdown",
      "id": "b94a86b9-1c7b-480b-8799-d87713aa8b6a",
      "metadata": {
        "id": "b94a86b9-1c7b-480b-8799-d87713aa8b6a"
      },
      "source": [
        "#### Descripción de la base de datos:\n",
        "El conjunto de datos de California housing contiene información sobre varias características de viviendas en California.\n",
        "\n",
        "\n",
        "longitude y latitude: Pueden usarse para analizar la ubicación geográfica y su influencia en el valor de las viviendas. La proximidad a ciertas áreas puede afectar significativamente el valor.\n",
        "\n",
        "housing_median_age: La antigüedad de las viviendas puede estar relacionada con el valor; por ejemplo, las viviendas más nuevas suelen tener un valor más alto.\n",
        "\n",
        "total_rooms y total_bedrooms: Indican el tamaño de las viviendas y pueden influir en el valor, ya que más habitaciones o dormitorios suelen correlacionarse con un valor mayor.\n",
        "\n",
        "population y households: Ayudan a entender la densidad poblacional y la distribución de las viviendas en el área.\n",
        "\n",
        "median_income: Es un predictor clave del valor de la vivienda. Un ingreso medio más alto en un área suele correlacionarse con un valor de vivienda más alto.\n",
        "\n",
        "median_house_value: Es la variable objetivo en el modelo de regresión, que intentamos predecir en función de las otras características."
      ]
    },
    {
      "cell_type": "markdown",
      "id": "7997219d-5488-4735-a260-053ccc8d3113",
      "metadata": {
        "id": "7997219d-5488-4735-a260-053ccc8d3113"
      },
      "source": [
        "#### Pregunta: ¿Cuál es la variable objetivo?\n",
        "\n",
        "La variable objetivo en este conjunto de datos es **`MEDV`** (Median House Value), que representa el valor medio de las viviendas en cientos de miles de dólares. Esta es la variable que se intenta predecir en un modelo de regresión utilizando las otras características disponibles en el conjunto de datos."
      ]
    },
    {
      "cell_type": "markdown",
      "id": "35167280-6869-41aa-b0a9-174ba0b3156f",
      "metadata": {
        "id": "35167280-6869-41aa-b0a9-174ba0b3156f"
      },
      "source": [
        "## 2. Preprocesamiento de datos:"
      ]
    },
    {
      "cell_type": "code",
      "execution_count": null,
      "id": "5a686350-1dcb-45bb-b855-7a1336b709b7",
      "metadata": {
        "id": "5a686350-1dcb-45bb-b855-7a1336b709b7"
      },
      "outputs": [],
      "source": [
        "from sklearn.model_selection import train_test_split\n",
        "from sklearn.preprocessing import StandardScaler\n",
        "from sklearn.preprocessing import MinMaxScaler\n",
        "\n",
        "# Dividir los datos en variables independientes (X) y variable dependiente (y)\n",
        "X = data.drop('MEDV', axis=1)\n",
        "y = data['MEDV']\n",
        "\n",
        "# Dividir el conjunto de datos en entrenamiento y prueba\n",
        "X_train, X_test, y_train, y_test = train_test_split(X, y, test_size=0.2, random_state=42)\n",
        "\n",
        "# Normalizar las características\n",
        "scaler = StandardScaler()\n",
        "# Aplicar escalamiento Min-Max\n",
        "#scaler = MinMaxScaler()\n",
        "\n",
        "X_train_scaled = scaler.fit_transform(X_train)\n",
        "X_test_scaled = scaler.transform(X_test)\n"
      ]
    },
    {
      "cell_type": "markdown",
      "id": "e66c559f-eabd-41dd-ae8b-a6929c6d31a6",
      "metadata": {
        "jp-MarkdownHeadingCollapsed": true,
        "id": "e66c559f-eabd-41dd-ae8b-a6929c6d31a6"
      },
      "source": [
        "#### Ejercicio: ¿Por qué es importante normalizar las características en un modelo de regresión? ¿Qué pasaría si no lo hicieras? ¿Qué ventajas ofrece el escalamiento Min-Max en comparación con otras técnicas de normalización? ¿hay diferencias en el desempeño del modelo al usar una u otra?\n",
        "\n",
        "\n",
        "Normalizar las características en un modelo de regresión es crucial para asegurar estabilidad numérica y comparabilidad, especialmente en algoritmos sensibles a la escala como la regresión lineal. Sin normalización, características con diferentes escalas pueden desbalancear el modelo, afectando su rendimiento y la interpretación de los coeficientes. El escalamiento Min-Max es útil cuando se necesita que las características estén en un rango específico, siendo especialmente beneficioso para modelos basados en distancias, mientras que la normalización estándar (`StandardScaler`) es preferible en modelos lineales para estabilizar la convergencia."
      ]
    },
    {
      "cell_type": "markdown",
      "id": "b5b0aaa0-8ee9-4f89-841f-337b0b874b05",
      "metadata": {
        "id": "b5b0aaa0-8ee9-4f89-841f-337b0b874b05"
      },
      "source": [
        "## 3. Entrenar un Modelo de Regresión Lineal:"
      ]
    },
    {
      "cell_type": "code",
      "execution_count": null,
      "id": "4c63a30b-bb7c-4b12-9c8f-92393d108f95",
      "metadata": {
        "id": "4c63a30b-bb7c-4b12-9c8f-92393d108f95"
      },
      "outputs": [],
      "source": [
        "from sklearn.linear_model import LinearRegression\n",
        "\n",
        "# Crear y entrenar el modelo\n",
        "modelo = LinearRegression()\n",
        "modelo.fit(X_train_scaled, y_train)\n",
        "\n",
        "# Realizar predicciones en el conjunto de prueba\n",
        "y_pred = modelo.predict(X_test_scaled)\n"
      ]
    },
    {
      "cell_type": "markdown",
      "id": "e418282a-335d-4ec0-a72c-915f9006b43b",
      "metadata": {
        "id": "e418282a-335d-4ec0-a72c-915f9006b43b"
      },
      "source": [
        "#### Ejercicio: ¿Cómo se interpretan los coeficientes del modelo de regresión lineal? ¿Qué información proporcionan sobre la relación entre las características y la variable objetivo?"
      ]
    },
    {
      "cell_type": "markdown",
      "source": [
        "Los coeficientes del modelo de regresión lineal indican cómo cada característica influye en la variable objetivo (`MEDV`), con valores positivos indicando una relación directa y valores negativos una relación inversa. Por ejemplo, un mayor ingreso medio en la zona se asocia con un aumento en el valor de las viviendas, mientras que una mayor población o estar más al oeste disminuye el valor. Sin embargo, dado que los datos fueron normalizados antes de entrenar el modelo, la magnitud de los coeficientes es menos intuitiva, y la interpretabilidad directa de los cambios en las características puede ser cuestionable."
      ],
      "metadata": {
        "id": "EcKVd_ztd3Mh"
      },
      "id": "EcKVd_ztd3Mh"
    },
    {
      "cell_type": "code",
      "source": [
        "inter = modelo.intercept_\n",
        "print(f\"Intercepto: {inter}\")\n",
        "coeficient = modelo.coef_\n",
        "print(\"Coeficientes\")\n",
        "for i, col in enumerate(X.columns):\n",
        "  print(f\" {col}: {coeficient[i]}\")"
      ],
      "metadata": {
        "colab": {
          "base_uri": "https://localhost:8080/"
        },
        "id": "rVHBj3y0cIjk",
        "outputId": "bc838dec-56be-4dec-b110-3d997050bbde"
      },
      "id": "rVHBj3y0cIjk",
      "execution_count": null,
      "outputs": [
        {
          "output_type": "stream",
          "name": "stdout",
          "text": [
            "Intercepto: 2.0719469373788777\n",
            "Coeficientes\n",
            " MedInc: 0.8543830309268546\n",
            " HouseAge: 0.12254623807840737\n",
            " AveRooms: -0.2944101344732999\n",
            " AveBedrms: 0.3392594905944844\n",
            " Population: -0.0023077231458302765\n",
            " AveOccup: -0.04082910308508747\n",
            " Latitude: -0.896928876638665\n",
            " Longitude: -0.8698417752417177\n"
          ]
        }
      ]
    },
    {
      "cell_type": "markdown",
      "id": "4342e3cc-e6e4-420d-904c-08738c66a8d7",
      "metadata": {
        "id": "4342e3cc-e6e4-420d-904c-08738c66a8d7"
      },
      "source": [
        "## 4. Evaluar el modelo:"
      ]
    },
    {
      "cell_type": "code",
      "execution_count": null,
      "id": "60caec5a-ecd4-4da1-ae17-f1adc8cd2a82",
      "metadata": {
        "id": "60caec5a-ecd4-4da1-ae17-f1adc8cd2a82",
        "outputId": "d0c8a4eb-74f8-4369-f077-f1847f1b79f7"
      },
      "outputs": [
        {
          "name": "stdout",
          "output_type": "stream",
          "text": [
            "MAE: 0.53\n",
            "MAPE: 31.95%\n"
          ]
        }
      ],
      "source": [
        "from sklearn.metrics import mean_absolute_error, mean_absolute_percentage_error\n",
        "\n",
        "# Calcular MAE y MAPE\n",
        "mae = mean_absolute_error(y_test, y_pred)\n",
        "mape = mean_absolute_percentage_error(y_test, y_pred) * 100\n",
        "\n",
        "print(f\"MAE: {mae:.2f}\")\n",
        "print(f\"MAPE: {mape:.2f}%\")\n"
      ]
    },
    {
      "cell_type": "markdown",
      "id": "fbb170a7-99dd-47d5-b2aa-8d6091217179",
      "metadata": {
        "id": "fbb170a7-99dd-47d5-b2aa-8d6091217179"
      },
      "source": [
        "#### Ejercicio: ¿Qué indican los valores de MAE y MAPE sobre el rendimiento del modelo? ¿Qué tan buenos son estos valores en el contexto del conjunto de datos de California?"
      ]
    },
    {
      "cell_type": "markdown",
      "source": [
        "Los valores de MAE (0.53) y MAPE (31.95%) indican que el modelo de regresión lineal tiene un rendimiento moderado en el conjunto de datos de California Housing, con un error medio absoluto de $530 y un error porcentual medio del 31.95%. Aunque el MAE sugiere una precisión razonable, el MAPE revela que el modelo se desvía un 31.95% en promedio de los valores reales, lo que indica que hay margen para mejorar la precisión del modelo."
      ],
      "metadata": {
        "id": "fiUoZ0v-e_GU"
      },
      "id": "fiUoZ0v-e_GU"
    },
    {
      "cell_type": "markdown",
      "id": "f460a358-9985-4ed0-9783-e8cbe593c392",
      "metadata": {
        "id": "f460a358-9985-4ed0-9783-e8cbe593c392"
      },
      "source": [
        "## 5. Calcular el Population Stability Index (PSI)"
      ]
    },
    {
      "cell_type": "code",
      "execution_count": null,
      "id": "967f8ea0-1132-4b6b-a5e2-d7c33a16b8c9",
      "metadata": {
        "id": "967f8ea0-1132-4b6b-a5e2-d7c33a16b8c9",
        "outputId": "20970e39-8caf-48c2-9b9d-c2dfecd67b45"
      },
      "outputs": [
        {
          "name": "stdout",
          "output_type": "stream",
          "text": [
            "      Feature       PSI\n",
            "3   AveBedrms  0.008715\n",
            "2    AveRooms  0.007694\n",
            "5    AveOccup  0.003309\n",
            "6    Latitude  0.003242\n",
            "0      MedInc  0.002595\n",
            "7   Longitude  0.002327\n",
            "4  Population  0.002320\n",
            "1    HouseAge  0.001218\n"
          ]
        }
      ],
      "source": [
        "import numpy as np\n",
        "\n",
        "def calculate_psi(expected, actual, bins=10):\n",
        "    \"\"\"Calcula el Population Stability Index (PSI).\"\"\"\n",
        "    # Crear bins para la característica\n",
        "    bins = np.linspace(min(expected.min(), actual.min()), max(expected.max(), actual.max()), bins + 1)\n",
        "    # Contar las observaciones en cada bin para los datos esperados y actuales\n",
        "    expected_counts, _ = np.histogram(expected, bins=bins)\n",
        "    actual_counts, _ = np.histogram(actual, bins=bins)\n",
        "\n",
        "    # Convertir las cuentas a proporciones\n",
        "    expected_prop = expected_counts / expected_counts.sum()\n",
        "    actual_prop = actual_counts / actual_counts.sum()\n",
        "\n",
        "    # Manejar división por cero\n",
        "    expected_prop = np.clip(expected_prop, 1e-10, 1)\n",
        "    actual_prop = np.clip(actual_prop, 1e-10, 1)\n",
        "\n",
        "    # Calcular PSI\n",
        "    psi = np.sum((actual_prop - expected_prop) * np.log(actual_prop / expected_prop))\n",
        "\n",
        "    return psi\n",
        "\n",
        "# Calcular PSI para cada característica\n",
        "psi_values = {}\n",
        "for feature in X.columns:\n",
        "    psi = calculate_psi(X_train[feature], X_test[feature])\n",
        "    psi_values[feature] = psi\n",
        "\n",
        "# Mostrar PSI para cada característica\n",
        "psi_df = pd.DataFrame(list(psi_values.items()), columns=['Feature', 'PSI'])\n",
        "psi_df.sort_values(by='PSI', ascending=False, inplace=True)\n",
        "print(psi_df)\n"
      ]
    },
    {
      "cell_type": "markdown",
      "id": "34205559-1568-4a9a-a4cd-2bf4ef50155c",
      "metadata": {
        "id": "34205559-1568-4a9a-a4cd-2bf4ef50155c"
      },
      "source": [
        "#### ¿Qué indica el valor del PSI para cada característica? ¿Cómo interpretarías el PSI en términos de la estabilidad de las características entre los conjuntos de entrenamiento y prueba?"
      ]
    },
    {
      "cell_type": "markdown",
      "source": [
        "El Population Stability Index (PSI) mide la estabilidad o el cambio en la distribución de una característica entre dos conjuntos de datos, como el conjunto de entrenamiento y el conjunto de prueba. Un PSI bajo generalmente indica que la distribución de una característica ha cambiado poco entre los conjuntos de entrenamiento y prueba, lo que sugiere estabilidad. Por otro lado, un PSI alto indicaría un cambio significativo, lo que podría afectar la capacidad del modelo para generalizar bien a nuevos datos.\n",
        "\n",
        "\n",
        "- PSI < 0.1: Generalmente se considera que la característica es estable.\n",
        "-  PSI entre 0.1 y 0.25: Sugiere cierta inestabilidad, lo que podría indicar la necesidad de investigar más a fondo la distribución de esa característica.\n",
        "- PSI > 0.25: Indica una inestabilidad significativa, lo que podría afectar el rendimiento del modelo en datos nuevos.\n",
        "\n",
        "En este  caso, todos los valores de PSI están por debajo de 0.01, lo que indica una estabilidad muy alta para todas las características entre los conjuntos de entrenamiento y prueba. Esto sugiere que las distribuciones de estas características han cambiado muy poco entre los dos conjuntos de datos, lo cual es positivo para la capacidad de mi modelo de generalizar bien a datos no vistos. Es menos probable que mi modelo experimente una degradación en el rendimiento debido a cambios en la distribución de las características."
      ],
      "metadata": {
        "id": "UJ6NeILPfHf_"
      },
      "id": "UJ6NeILPfHf_"
    },
    {
      "cell_type": "markdown",
      "id": "88f8ca3c-8a2f-4a7a-b632-5c30ac0ba95a",
      "metadata": {
        "id": "88f8ca3c-8a2f-4a7a-b632-5c30ac0ba95a"
      },
      "source": [
        "## 6. Validación Cruzada:\n",
        "\n",
        "La validación cruzada proporciona una evaluación más robusta del modelo al dividir el conjunto de datos en múltiples particiones. Aquí aplicaremos la validación cruzada usando el modelo de regresión lineal."
      ]
    },
    {
      "cell_type": "code",
      "execution_count": null,
      "id": "2766de8e-4050-49e9-92ab-52be90eb4d28",
      "metadata": {
        "id": "2766de8e-4050-49e9-92ab-52be90eb4d28",
        "outputId": "cb8c8be1-a6a8-44d6-fbf3-1a3e4c0562d8"
      },
      "outputs": [
        {
          "name": "stdout",
          "output_type": "stream",
          "text": [
            "MAE promedio en validación cruzada: 0.55\n"
          ]
        }
      ],
      "source": [
        "from sklearn.model_selection import cross_val_score\n",
        "\n",
        "# Crear el modelo\n",
        "modelo = LinearRegression()\n",
        "\n",
        "# Aplicar validación cruzada\n",
        "scores = cross_val_score(modelo, X, y, cv=5, scoring='neg_mean_absolute_error')\n",
        "\n",
        "# Convertir los scores a valores positivos y calcular la media\n",
        "mae_scores = -scores\n",
        "print(f\"MAE promedio en validación cruzada: {mae_scores.mean():.2f}\")\n"
      ]
    },
    {
      "cell_type": "raw",
      "id": "ccfbe5b6-a40d-4e39-a097-eba39231d736",
      "metadata": {
        "id": "ccfbe5b6-a40d-4e39-a097-eba39231d736"
      },
      "source": []
    },
    {
      "cell_type": "markdown",
      "id": "cb271d2d-abb9-4497-97b6-094d8817a5fe",
      "metadata": {
        "id": "cb271d2d-abb9-4497-97b6-094d8817a5fe"
      },
      "source": [
        "1: Ejercicio: Entrena un modelo de regresión con un algoritmo diferente (por ejemplo, Ridge, Lasso, DecisionTreeRegressor o RandomForestRegressor) y compara sus resultados con el modelo de regresión lineal en términos de MAE y MAPE.\n",
        "\n",
        "2: Ejercicio: Realiza una validación cruzada para el nuevo modelo que entrenaste en el Ejercicio anterior. ¿Cómo cambian las métricas de error?\n",
        "\n",
        "3:  Ejercicio: Analiza la importancia de las características en el modelo de regresión que elegiste. ¿Qué características tienen más impacto en la predicción de MEDV?"
      ]
    },
    {
      "cell_type": "markdown",
      "source": [
        "1: Aplicaremos un Random Forest"
      ],
      "metadata": {
        "id": "z_ADr90qf0CS"
      },
      "id": "z_ADr90qf0CS"
    },
    {
      "cell_type": "code",
      "source": [
        "\n",
        "from sklearn.preprocessing import StandardScaler\n",
        "from sklearn.ensemble import RandomForestRegressor\n",
        "from sklearn.metrics import mean_absolute_error, mean_absolute_percentage_error"
      ],
      "metadata": {
        "id": "evEG6Khof5zi"
      },
      "id": "evEG6Khof5zi",
      "execution_count": null,
      "outputs": []
    },
    {
      "cell_type": "code",
      "source": [
        "# Entrenar el modelo de RandomForestRegressor\n",
        "#n_estimators= 100 por defecto\n",
        "rf_model = RandomForestRegressor(random_state=42)\n",
        "rf_model.fit(X_train_scaled, y_train)\n",
        "y_pred_rf = rf_model.predict(X_test_scaled)"
      ],
      "metadata": {
        "id": "irXLth-mgD62"
      },
      "id": "irXLth-mgD62",
      "execution_count": null,
      "outputs": []
    },
    {
      "cell_type": "code",
      "source": [
        "# Calcular MAE y MAPE para el modelo de RandomForestRegressor\n",
        "mae_rf = mean_absolute_error(y_test, y_pred_rf)\n",
        "mape_rf = mean_absolute_percentage_error(y_test, y_pred_rf) * 100\n",
        "print(f\"RandomForestRegressor - MAE: {mae_rf:.2f}, MAPE: {mape_rf:.2f}%\")"
      ],
      "metadata": {
        "colab": {
          "base_uri": "https://localhost:8080/"
        },
        "id": "antjfxejgpYx",
        "outputId": "7387f530-e5c7-4cbe-f9d2-19aed15ee074"
      },
      "id": "antjfxejgpYx",
      "execution_count": null,
      "outputs": [
        {
          "output_type": "stream",
          "name": "stdout",
          "text": [
            "RandomForestRegressor - MAE: 0.33, MAPE: 18.91%\n"
          ]
        }
      ]
    },
    {
      "cell_type": "markdown",
      "source": [
        "Comparando los resultados entre el modelo de regresión lineal y el modelo de RandomForestRegressor, se observa que el RandomForestRegressor tiene un rendimiento significativamente mejor. El MAE del modelo de RandomForest es de 0.33, lo que indica un error absoluto medio más bajo en comparación con el MAE de 0.53 de la regresión lineal. Esto significa que, en promedio, las predicciones del RandomForest están más cerca de los valores reales. Además, el MAPE del RandomForest es de 18.91%, considerablemente menor que el 31.95% de la regresión lineal, lo que sugiere que el modelo de RandomForest tiene un error porcentual relativo menor y es más preciso en sus predicciones. Estos resultados indican que el RandomForestRegressor maneja mejor la complejidad y las relaciones no lineales en los datos, logrando una mayor precisión en comparación con la regresión lineal."
      ],
      "metadata": {
        "id": "pWJ83VrrhVU8"
      },
      "id": "pWJ83VrrhVU8"
    },
    {
      "cell_type": "markdown",
      "source": [
        "2: Validacion cruzada"
      ],
      "metadata": {
        "id": "fM80tEoohoEx"
      },
      "id": "fM80tEoohoEx"
    },
    {
      "cell_type": "code",
      "source": [
        "from sklearn.model_selection import cross_val_score\n",
        "\n",
        "# Crear el modelo\n",
        "rf_model1 = RandomForestRegressor(random_state=42)\n",
        "\n",
        "# Aplicar validación cruzada\n",
        "scores = cross_val_score(rf_model1, X, y, cv=5, scoring='neg_mean_absolute_error')\n",
        "\n",
        "# Convertir los scores a valores positivos y calcular la media\n",
        "mae_scores = -scores\n",
        "print(f\"MAE promedio en validación cruzada: {mae_scores.mean():.2f}\")"
      ],
      "metadata": {
        "colab": {
          "base_uri": "https://localhost:8080/"
        },
        "id": "3g9knIZkhxBY",
        "outputId": "3aacbcf1-3693-4628-fba0-14a2a52c5fa1"
      },
      "id": "3g9knIZkhxBY",
      "execution_count": null,
      "outputs": [
        {
          "output_type": "stream",
          "name": "stdout",
          "text": [
            "MAE promedio en validación cruzada: 0.46\n"
          ]
        }
      ]
    },
    {
      "cell_type": "markdown",
      "source": [
        "\n",
        "\n",
        "El incremento del MAE de 0.33 en el conjunto de prueba a 0.46 en la validación cruzada sugiere que el modelo de RandomForestRegressor podría estar ligeramente ajustado a los datos específicos de la partición de prueba original, lo que indica un posible sobreajuste. La validación cruzada proporciona una evaluación más robusta y generalizable del rendimiento del modelo, ya que promedia los errores a través de múltiples particiones del conjunto de datos. Aunque el modelo sigue siendo fuerte, el aumento en el MAE promedio destaca la importancia de la validación cruzada para obtener una medida más realista del desempeño del modelo en situaciones del mundo real, donde la variabilidad de los datos es mayor. Esto nos recuerda que un rendimiento excelente en un solo conjunto de prueba puede no traducirse necesariamente en un rendimiento igualmente fuerte en otras muestras o en un entorno de producción."
      ],
      "metadata": {
        "id": "y5RnpGXqixFn"
      },
      "id": "y5RnpGXqixFn"
    },
    {
      "cell_type": "markdown",
      "source": [
        "3:"
      ],
      "metadata": {
        "id": "1u5sVj3Qi0GQ"
      },
      "id": "1u5sVj3Qi0GQ"
    },
    {
      "cell_type": "code",
      "source": [
        "\n",
        "importances = rf_model.feature_importances_\n",
        "features_importances = pd.Series(importances, index=X.columns)\n",
        "sorted_importances = features_importances.sort_values(ascending=False)\n",
        "importances1 = pd.DataFrame({\n",
        "    \"Característica\": sorted_importances.index,\n",
        "    \"Importancia\": sorted_importances.values\n",
        "})\n",
        "print(importances1)\n"
      ],
      "metadata": {
        "colab": {
          "base_uri": "https://localhost:8080/"
        },
        "id": "YShMp-XEi7Pu",
        "outputId": "11da4d8b-961b-400f-b9b7-464a5b97305e"
      },
      "id": "YShMp-XEi7Pu",
      "execution_count": null,
      "outputs": [
        {
          "output_type": "stream",
          "name": "stdout",
          "text": [
            "  Característica  Importancia\n",
            "0         MedInc     0.524871\n",
            "1       AveOccup     0.138443\n",
            "2       Latitude     0.088936\n",
            "3      Longitude     0.088629\n",
            "4       HouseAge     0.054593\n",
            "5       AveRooms     0.044272\n",
            "6     Population     0.030650\n",
            "7      AveBedrms     0.029606\n"
          ]
        }
      ]
    },
    {
      "cell_type": "markdown",
      "source": [
        "El análisis de la importancia de las características en el modelo de RandomForestRegressor revela que MedInc (ingreso medio) es, con diferencia, el predictor más potente del valor medio de las viviendas (MEDV), con una importancia relativa de 0.5249. Esto sugiere que las variaciones en el ingreso medio explican la mayor parte de la variabilidad en el valor de las viviendas, lo cual es estadísticamente significativo y coherente con la literatura económica.\n",
        "\n",
        "Las características geográficas (Latitude y Longitude), junto con AveOccup (ocupación promedio), también son importantes, con importancias relativas de aproximadamente 0.0889 y 0.1384 respectivamente, indicando que la ubicación y la densidad de ocupación son factores relevantes en la predicción, pero menos determinantes que el ingreso medio.\n",
        "\n",
        "Por otro lado, características como HouseAge, AveRooms, Population, y AveBedrms muestran una menor contribución al modelo, con importancias relativas que van desde 0.0296 a 0.0546."
      ],
      "metadata": {
        "id": "5zByN4Ddkwe9"
      },
      "id": "5zByN4Ddkwe9"
    }
  ],
  "metadata": {
    "kernelspec": {
      "display_name": "Python 3 (ipykernel)",
      "language": "python",
      "name": "python3"
    },
    "language_info": {
      "codemirror_mode": {
        "name": "ipython",
        "version": 3
      },
      "file_extension": ".py",
      "mimetype": "text/x-python",
      "name": "python",
      "nbconvert_exporter": "python",
      "pygments_lexer": "ipython3",
      "version": "3.9.12"
    },
    "colab": {
      "provenance": []
    }
  },
  "nbformat": 4,
  "nbformat_minor": 5
}